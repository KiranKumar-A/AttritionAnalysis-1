{
 "cells": [
  {
   "cell_type": "markdown",
   "metadata": {},
   "source": [
    "### Support Vector Machine\n",
    "<hr>"
   ]
  },
  {
   "cell_type": "code",
   "execution_count": 2,
   "metadata": {
    "collapsed": false
   },
   "outputs": [
    {
     "name": "stderr",
     "output_type": "stream",
     "text": [
      "/Library/Frameworks/Python.framework/Versions/3.4/lib/python3.4/site-packages/sklearn/cross_validation.py:41: DeprecationWarning: This module was deprecated in version 0.18 in favor of the model_selection module into which all the refactored classes and functions are moved. Also note that the interface of the new CV iterators are different from that of this module. This module will be removed in 0.20.\n",
      "  \"This module will be removed in 0.20.\", DeprecationWarning)\n"
     ]
    }
   ],
   "source": [
    "# Preamble: Import libraries\n",
    "import numpy as np\n",
    "import pandas as pd\n",
    "import math as m\n",
    "import matplotlib.pyplot as plt\n",
    "%matplotlib inline\n",
    "\n",
    "from sklearn.cross_validation import train_test_split\n",
    "from sklearn import svm"
   ]
  },
  {
   "cell_type": "code",
   "execution_count": null,
   "metadata": {
    "collapsed": true
   },
   "outputs": [],
   "source": [
    "# Reference http://scikit-learn.org/stable/modules/svm.html"
   ]
  },
  {
   "cell_type": "code",
   "execution_count": 3,
   "metadata": {
    "collapsed": false
   },
   "outputs": [],
   "source": [
    "# Replace categoricals and boolean variables in data frame\n",
    "def transform_df(df):\n",
    "    df =df.drop(df.columns[0],axis=1) # drop panda indexing column\n",
    "    \n",
    "    #df= df.drop('Over18',axis=1)\n",
    "    \n",
    "    # One Hot encoding for categorical variables\n",
    "    categoricals = ['BusinessTravel','Department', 'EducationField','JobRole','MaritalStatus']\n",
    "    for item in categoricals:\n",
    "        dummy = pd.get_dummies(df[item], prefix=item)\n",
    "        df = df.join(dummy.loc[:, :])\n",
    "        df = df.drop(item, axis=1)\n",
    "        \n",
    "    #Transform boolean values into numbers\n",
    "    df['Attrition'] = df['Attrition'].map(lambda x: 0 if x == 'No' else 1)\n",
    "    df['OverTime'] = df['OverTime'].map(lambda x: 0 if x == 'No' else 1)\n",
    "    df['Gender'] = df['Gender'].map(lambda x: 0 if x== 'Female' else 1)\n",
    "    df['Over18'] = df['Over18'].map(lambda x: 0 if x=='N' else 1)\n",
    "    return df"
   ]
  },
  {
   "cell_type": "code",
   "execution_count": 4,
   "metadata": {
    "collapsed": false
   },
   "outputs": [
    {
     "data": {
      "text/plain": [
       "StandardScaler(copy=True, with_mean=True, with_std=True)"
      ]
     },
     "execution_count": 4,
     "metadata": {},
     "output_type": "execute_result"
    }
   ],
   "source": [
    "# Normalize data before training the model\n",
    "from sklearn.preprocessing import StandardScaler\n",
    "empl = pd.read_csv(\"EmployeeIBMData.csv\")\n",
    "empl = transform_df(empl)\n",
    "scaler = StandardScaler()\n",
    "scaler.fit(empl)"
   ]
  },
  {
   "cell_type": "code",
   "execution_count": 5,
   "metadata": {
    "collapsed": false
   },
   "outputs": [],
   "source": [
    "# Create training and test sets\n",
    "train_set = pd.read_csv(\"trainEmployeeData.csv\")\n",
    "test_set = pd.read_csv(\"testEmployeeData.csv\")\n",
    "\n",
    "# Apply transformation\n",
    "train_set = transform_df(train_set)\n",
    "test_set = transform_df(test_set)"
   ]
  },
  {
   "cell_type": "code",
   "execution_count": 6,
   "metadata": {
    "collapsed": true
   },
   "outputs": [],
   "source": [
    "y_train = train_set['Attrition']\n",
    "x_train = train_set.drop(['Attrition'], axis=1)\n",
    "x_train = scaler.transform(x_train) #normalize\n",
    "y_test = test_set['Attrition']\n",
    "x_test = test_set.drop(['Attrition'], axis=1)\n",
    "x_test = scaler.transform(x_test) #normalize"
   ]
  },
  {
   "cell_type": "code",
   "execution_count": 7,
   "metadata": {
    "collapsed": false
   },
   "outputs": [
    {
     "name": "stdout",
     "output_type": "stream",
     "text": [
      "Linear SVM\n",
      "Training Accuracy:  0.893707482993\n",
      "Test Accuracy:  0.891156462585\n"
     ]
    }
   ],
   "source": [
    "# Apply SVM Classifier\n",
    "svmC = svm.SVC(kernel = 'linear');\n",
    "svmC.fit(x_train,y_train);\n",
    "svmC.predict(x_test)\n",
    "print (\"Linear SVM\")\n",
    "print(\"Training Accuracy: \", svmC.score(x_train, y_train))\n",
    "print(\"Test Accuracy: \", svmC.score(x_test,y_test))"
   ]
  },
  {
   "cell_type": "code",
   "execution_count": 123,
   "metadata": {
    "collapsed": false
   },
   "outputs": [
    {
     "name": "stdout",
     "output_type": "stream",
     "text": [
      "Poly SVM\n",
      "Training Accuracy:  1.0\n",
      "Test Accuracy:  0.792517006803\n"
     ]
    }
   ],
   "source": [
    "# Apply SVM Classifier\n",
    "svmC = svm.SVC(C = 1.3, kernel = 'poly');\n",
    "svmC.fit(x_train,y_train);\n",
    "svmC.predict(x_test)\n",
    "print (\"Poly SVM\")\n",
    "print(\"Training Accuracy: \", svmC.score(x_train, y_train))\n",
    "print(\"Test Accuracy: \", svmC.score(x_test,y_test))"
   ]
  },
  {
   "cell_type": "code",
   "execution_count": 124,
   "metadata": {
    "collapsed": false
   },
   "outputs": [
    {
     "name": "stdout",
     "output_type": "stream",
     "text": [
      "RBF SVM\n",
      "Training Accuracy:  0.920068027211\n",
      "Test Accuracy:  0.850340136054\n"
     ]
    }
   ],
   "source": [
    "# Apply SVM Classifier\n",
    "svmC = svm.SVC(kernel = 'rbf');\n",
    "svmC.fit(x_train,y_train);\n",
    "svmC.predict(x_test)\n",
    "print (\"RBF SVM\")\n",
    "print(\"Training Accuracy: \", svmC.score(x_train, y_train))\n",
    "print(\"Test Accuracy: \", svmC.score(x_test,y_test))"
   ]
  },
  {
   "cell_type": "code",
   "execution_count": 125,
   "metadata": {
    "collapsed": false
   },
   "outputs": [
    {
     "name": "stdout",
     "output_type": "stream",
     "text": [
      "RBF SVM, Params\n",
      "Training Accuracy:  0.884353741497\n",
      "Test Accuracy:  0.860544217687\n"
     ]
    }
   ],
   "source": [
    "# Apply SVM Classifier\n",
    "svmC = svm.SVC(C = 1.23, gamma = 0.006, kernel = 'rbf');\n",
    "svmC.fit(x_train,y_train);\n",
    "svmC.predict(x_test)\n",
    "print (\"RBF SVM, Params\")\n",
    "print(\"Training Accuracy: \", svmC.score(x_train, y_train))\n",
    "print(\"Test Accuracy: \", svmC.score(x_test,y_test))"
   ]
  },
  {
   "cell_type": "code",
   "execution_count": 127,
   "metadata": {
    "collapsed": false
   },
   "outputs": [
    {
     "name": "stdout",
     "output_type": "stream",
     "text": [
      "Sigmoid SVM\n",
      "Training Accuracy:  0.837585034014\n",
      "Test Accuracy:  0.843537414966\n"
     ]
    }
   ],
   "source": [
    "# Apply SVM Classifier\n",
    "svmC = svm.SVC(kernel = 'sigmoid');\n",
    "svmC.fit(x_train,y_train);\n",
    "svmC.predict(x_test)\n",
    "print (\"Sigmoid SVM\")\n",
    "print(\"Training Accuracy: \", svmC.score(x_train, y_train))\n",
    "print(\"Test Accuracy: \", svmC.score(x_test,y_test))"
   ]
  },
  {
   "cell_type": "markdown",
   "metadata": {},
   "source": [
    "<hr>"
   ]
  },
  {
   "cell_type": "code",
   "execution_count": 8,
   "metadata": {
    "collapsed": false
   },
   "outputs": [
    {
     "name": "stdout",
     "output_type": "stream",
     "text": [
      "Linear SVM\n",
      "Training Accuracy:  0.893707482993\n",
      "Test Accuracy:  0.891156462585\n"
     ]
    }
   ],
   "source": [
    "# Apply SVM Classifier\n",
    "svmC = svm.SVC(kernel = 'linear');\n",
    "svmC.fit(x_train,y_train);\n",
    "svmC.predict(x_test)\n",
    "print (\"Linear SVM\")\n",
    "print(\"Training Accuracy: \", svmC.score(x_train, y_train))\n",
    "print(\"Test Accuracy: \", svmC.score(x_test,y_test))"
   ]
  },
  {
   "cell_type": "code",
   "execution_count": 35,
   "metadata": {
    "collapsed": false
   },
   "outputs": [
    {
     "name": "stdout",
     "output_type": "stream",
     "text": [
      "Age 0.00890220586911\n",
      "DailyRate 0.0549314883343\n",
      "DistanceFromHome 0.228261352234\n",
      "Education 0.0582250527442\n",
      "EmployeeCount 0.0\n",
      "EmployeeNumber 0.0768384938833\n",
      "EnvironmentSatisfaction 0.318875458428\n",
      "Gender 0.101540985566\n",
      "HourlyRate 0.0648041105492\n",
      "JobInvolvement 0.309746492785\n",
      "JobLevel 0.262025088937\n",
      "JobSatisfaction 0.389416381681\n",
      "MonthlyIncome 0.0486010079515\n",
      "MonthlyRate 0.00443627633608\n",
      "NumCompaniesWorked 0.347264826856\n",
      "Over18 0.0\n",
      "OverTime 0.640403229021\n",
      "PercentSalaryHike 0.0529721134623\n",
      "PerformanceRating 0.0304359420234\n",
      "RelationshipSatisfaction 0.166041987503\n",
      "StandardHours 0.0\n",
      "StockOptionLevel 0.197676378504\n",
      "TotalWorkingYears 0.524112788857\n",
      "TrainingTimesLastYear 0.193218553162\n",
      "WorkLifeBalance 0.194148269298\n",
      "YearsAtCompany 0.379080560581\n",
      "YearsInCurrentRole 0.275326054206\n",
      "YearsSinceLastPromotion 0.371937826391\n",
      "YearsWithCurrManager 0.349029726389\n",
      "BusinessTravel_Non-Travel 0.146377043917\n",
      "BusinessTravel_Travel_Frequently 0.189290977154\n",
      "BusinessTravel_Travel_Rarely 0.0654550043855\n",
      "Department_Human Resources 0.0212136223121\n",
      "Department_Research & Development 0.0143414731396\n",
      "Department_Sales 0.0241879169336\n",
      "EducationField_Human Resources 0.0653275388905\n",
      "EducationField_Life Sciences 0.00107602797806\n",
      "EducationField_Marketing 0.0308674237289\n",
      "EducationField_Medical 0.0945636152761\n",
      "EducationField_Other 0.030095431992\n",
      "EducationField_Technical Degree 0.115528231076\n",
      "JobRole_Healthcare Representative 0.0494869038458\n",
      "JobRole_Human Resources 0.0232590712245\n",
      "JobRole_Laboratory Technician 0.0943623404211\n",
      "JobRole_Manager 0.0602926908893\n",
      "JobRole_Manufacturing Director 0.180331841039\n",
      "JobRole_Research Director 0.110334121456\n",
      "JobRole_Research Scientist 0.156253561966\n",
      "JobRole_Sales Executive 0.130231239904\n",
      "JobRole_Sales Representative 0.197432402396\n",
      "MaritalStatus_Divorced 0.0508113803589\n",
      "MaritalStatus_Married 0.0987851072638\n",
      "MaritalStatus_Single 0.150842366546\n"
     ]
    },
    {
     "data": {
      "image/png": "[encoded data removed]",
      "text/plain": [
       "<matplotlib.figure.Figure at 0x10c29e438>"
      ]
     },
     "metadata": {},
     "output_type": "display_data"
    }
   ],
   "source": [
    "coef = [abs(item) for sublist in svmC.coef_ for item in sublist] #flatten model.coef_\n",
    "\n",
    "feats = pd.read_csv(\"trainEmployeeData.csv\")\n",
    "feats = transform_df(feats)\n",
    "feats = feats.drop(['Attrition'], axis=1)\n",
    "plt.figure(figsize=(10,5))\n",
    "plt.title(\"Distribution of SVM Regression Coefficients\")\n",
    "plt.hist(coef, alpha = 0.6);\n",
    "\n",
    "for idx, val in enumerate(coef):\n",
    "    print(feats.columns[idx],val)"
   ]
  },
  {
   "cell_type": "code",
   "execution_count": 36,
   "metadata": {
    "collapsed": false
   },
   "outputs": [],
   "source": [
    "# Very iterative way to rank features\n",
    "unranked_features = [];\n",
    "for idx, val in enumerate(coef):\n",
    "    unranked_features.append([feats.columns[idx],val])"
   ]
  },
  {
   "cell_type": "code",
   "execution_count": 41,
   "metadata": {
    "collapsed": false
   },
   "outputs": [],
   "source": [
    "coef.sort()\n",
    "ranked_features = [];\n",
    "for r in coef:\n",
    "    for u in unranked_features:\n",
    "        if u[1] == r:\n",
    "            ranked_features.append([u[0], r])"
   ]
  },
  {
   "cell_type": "code",
   "execution_count": 51,
   "metadata": {
    "collapsed": false
   },
   "outputs": [],
   "source": [
    "def showTop(n, coefficients):\n",
    "    for i in range(len(coefficients) - 1,len(coefficients) - n - 1 , -1): \n",
    "        print(coefficients[i])\n",
    "    return"
   ]
  },
  {
   "cell_type": "code",
   "execution_count": 52,
   "metadata": {
    "collapsed": false
   },
   "outputs": [
    {
     "name": "stdout",
     "output_type": "stream",
     "text": [
      "['OverTime', 0.6404032290207089]\n",
      "['TotalWorkingYears', 0.52411278885668855]\n",
      "['JobSatisfaction', 0.38941638168145748]\n",
      "['YearsAtCompany', 0.37908056058055628]\n",
      "['YearsSinceLastPromotion', 0.37193782639084316]\n"
     ]
    }
   ],
   "source": [
    "showTop(5, ranked_features)"
   ]
  },
  {
   "cell_type": "code",
   "execution_count": 54,
   "metadata": {
    "collapsed": false
   },
   "outputs": [
    {
     "name": "stdout",
     "output_type": "stream",
     "text": [
      "['OverTime', 0.6404032290207089]\n",
      "['TotalWorkingYears', 0.52411278885668855]\n",
      "['JobSatisfaction', 0.38941638168145748]\n",
      "['YearsAtCompany', 0.37908056058055628]\n",
      "['YearsSinceLastPromotion', 0.37193782639084316]\n",
      "['YearsWithCurrManager', 0.3490297263892681]\n",
      "['NumCompaniesWorked', 0.34726482685638094]\n",
      "['EnvironmentSatisfaction', 0.31887545842806375]\n",
      "['JobInvolvement', 0.30974649278504979]\n",
      "['YearsInCurrentRole', 0.27532605420599254]\n"
     ]
    }
   ],
   "source": [
    "showTop(10, ranked_features)"
   ]
  },
  {
   "cell_type": "code",
   "execution_count": 55,
   "metadata": {
    "collapsed": false
   },
   "outputs": [
    {
     "name": "stdout",
     "output_type": "stream",
     "text": [
      "['OverTime', 0.6404032290207089]\n",
      "['TotalWorkingYears', 0.52411278885668855]\n",
      "['JobSatisfaction', 0.38941638168145748]\n",
      "['YearsAtCompany', 0.37908056058055628]\n",
      "['YearsSinceLastPromotion', 0.37193782639084316]\n",
      "['YearsWithCurrManager', 0.3490297263892681]\n",
      "['NumCompaniesWorked', 0.34726482685638094]\n",
      "['EnvironmentSatisfaction', 0.31887545842806375]\n",
      "['JobInvolvement', 0.30974649278504979]\n",
      "['YearsInCurrentRole', 0.27532605420599254]\n",
      "['JobLevel', 0.26202508893723897]\n",
      "['DistanceFromHome', 0.22826135223404798]\n",
      "['StockOptionLevel', 0.19767637850423436]\n",
      "['JobRole_Sales Representative', 0.19743240239606497]\n",
      "['WorkLifeBalance', 0.19414826929838325]\n",
      "['TrainingTimesLastYear', 0.19321855316168068]\n",
      "['BusinessTravel_Travel_Frequently', 0.18929097715448862]\n",
      "['JobRole_Manufacturing Director', 0.18033184103882438]\n",
      "['RelationshipSatisfaction', 0.16604198750271815]\n",
      "['JobRole_Research Scientist', 0.15625356196592366]\n"
     ]
    }
   ],
   "source": [
    "showTop(20, ranked_features)"
   ]
  },
  {
   "cell_type": "markdown",
   "metadata": {},
   "source": [
    "What if numbers are different for job roles?"
   ]
  },
  {
   "cell_type": "markdown",
   "metadata": {},
   "source": [
    "### Cross Validation for Parameter Selection"
   ]
  },
  {
   "cell_type": "code",
   "execution_count": 11,
   "metadata": {
    "collapsed": false
   },
   "outputs": [
    {
     "data": {
      "text/plain": [
       "[['Age', -0.0089022058691057282],\n",
       " ['DailyRate', -0.054931488334296119],\n",
       " ['DistanceFromHome', 0.22826135223404798],\n",
       " ['Education', 0.058225052744228734],\n",
       " ['EmployeeCount', 0.0],\n",
       " ['EmployeeNumber', -0.076838493883298165],\n",
       " ['EnvironmentSatisfaction', -0.31887545842806375],\n",
       " ['Gender', 0.10154098556555402],\n",
       " ['HourlyRate', 0.064804110549193772],\n",
       " ['JobInvolvement', -0.30974649278504979],\n",
       " ['JobLevel', -0.26202508893723897],\n",
       " ['JobSatisfaction', -0.38941638168145748],\n",
       " ['MonthlyIncome', 0.048601007951547759],\n",
       " ['MonthlyRate', -0.0044362763360845103],\n",
       " ['NumCompaniesWorked', 0.34726482685638094],\n",
       " ['Over18', 0.0],\n",
       " ['OverTime', 0.6404032290207089],\n",
       " ['PercentSalaryHike', -0.052972113462257553],\n",
       " ['PerformanceRating', 0.030435942023445572],\n",
       " ['RelationshipSatisfaction', -0.16604198750271815],\n",
       " ['StandardHours', 0.0],\n",
       " ['StockOptionLevel', -0.19767637850423436],\n",
       " ['TotalWorkingYears', -0.52411278885668855],\n",
       " ['TrainingTimesLastYear', -0.19321855316168068],\n",
       " ['WorkLifeBalance', -0.19414826929838325],\n",
       " ['YearsAtCompany', 0.37908056058055628],\n",
       " ['YearsInCurrentRole', -0.27532605420599254],\n",
       " ['YearsSinceLastPromotion', 0.37193782639084316],\n",
       " ['YearsWithCurrManager', -0.3490297263892681],\n",
       " ['BusinessTravel_Non-Travel', -0.14637704391690287],\n",
       " ['BusinessTravel_Travel_Frequently', 0.18929097715448862],\n",
       " ['BusinessTravel_Travel_Rarely', -0.065455004385539528],\n",
       " ['Department_Human Resources', 0.021213622312136249],\n",
       " ['Department_Research & Development', 0.014341473139575678],\n",
       " ['Department_Sales', -0.024187916933608555],\n",
       " ['EducationField_Human Resources', 0.06532753889049886],\n",
       " ['EducationField_Life Sciences', -0.0010760279780568371],\n",
       " ['EducationField_Marketing', 0.030867423728889398],\n",
       " ['EducationField_Medical', -0.094563615276112345],\n",
       " ['EducationField_Other', -0.030095431992024579],\n",
       " ['EducationField_Technical Degree', 0.11552823107637133],\n",
       " ['JobRole_Healthcare Representative', -0.049486903845830876],\n",
       " ['JobRole_Human Resources', 0.023259071224483174],\n",
       " ['JobRole_Laboratory Technician', 0.094362340421142277],\n",
       " ['JobRole_Manager', 0.060292690889349188],\n",
       " ['JobRole_Manufacturing Director', -0.18033184103882438],\n",
       " ['JobRole_Research Director', -0.11033412145603144],\n",
       " ['JobRole_Research Scientist', -0.15625356196592366],\n",
       " ['JobRole_Sales Executive', 0.13023123990352481],\n",
       " ['JobRole_Sales Representative', 0.19743240239606497],\n",
       " ['MaritalStatus_Divorced', -0.050811380358939173],\n",
       " ['MaritalStatus_Married', -0.098785107263774652],\n",
       " ['MaritalStatus_Single', 0.15084236654554495]]"
      ]
     },
     "execution_count": 11,
     "metadata": {},
     "output_type": "execute_result"
    }
   ],
   "source": [
    "ranked_features"
   ]
  },
  {
   "cell_type": "code",
   "execution_count": 56,
   "metadata": {
    "collapsed": true
   },
   "outputs": [],
   "source": [
    "from sklearn.model_selection import GridSearchCV\n",
    "# Set the parameters by cross-validation\n",
    "tuned_parameters = [{'kernel': ['rbf'], 'gamma': [1e-3, 1e-4],\n",
    "                     'C': [1, 10, 100, 1000]},\n",
    "                    {'kernel': ['linear'], 'C': [1, 10, 100, 1000]}]\n",
    "\n",
    "clf = GridSearchCV(SVC(), tuned_parameters, cv=5,\n",
    "                       scoring='%s_macro' % score)\n",
    "clf.fit(X_train, y_train)"
   ]
  },
  {
   "cell_type": "code",
   "execution_count": null,
   "metadata": {
    "collapsed": true
   },
   "outputs": [],
   "source": []
  }
 ],
 "metadata": {
  "kernelspec": {
   "display_name": "Python 3",
   "language": "python",
   "name": "python3"
  },
  "language_info": {
   "codemirror_mode": {
    "name": "ipython",
    "version": 3
   },
   "file_extension": ".py",
   "mimetype": "text/x-python",
   "name": "python",
   "nbconvert_exporter": "python",
   "pygments_lexer": "ipython3",
   "version": "3.4.3"
  }
 },
 "nbformat": 4,
 "nbformat_minor": 2
}

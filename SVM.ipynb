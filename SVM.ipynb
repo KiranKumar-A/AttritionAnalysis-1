{
 "cells": [
  {
   "cell_type": "markdown",
   "metadata": {},
   "source": [
    "### Support Vector Machine\n",
    "<hr>"
   ]
  },
  {
   "cell_type": "code",
   "execution_count": 1,
   "metadata": {
    "collapsed": false
   },
   "outputs": [
    {
     "name": "stderr",
     "output_type": "stream",
     "text": [
      "/Library/Frameworks/Python.framework/Versions/3.4/lib/python3.4/site-packages/sklearn/cross_validation.py:41: DeprecationWarning: This module was deprecated in version 0.18 in favor of the model_selection module into which all the refactored classes and functions are moved. Also note that the interface of the new CV iterators are different from that of this module. This module will be removed in 0.20.\n",
      "  \"This module will be removed in 0.20.\", DeprecationWarning)\n"
     ]
    }
   ],
   "source": [
    "# Preamble: Import libraries\n",
    "import numpy as np\n",
    "import pandas as pd\n",
    "import math as m\n",
    "import matplotlib.pyplot as plt\n",
    "%matplotlib inline\n",
    "\n",
    "from sklearn.cross_validation import train_test_split\n",
    "from sklearn import svm"
   ]
  },
  {
   "cell_type": "code",
   "execution_count": 2,
   "metadata": {
    "collapsed": true
   },
   "outputs": [],
   "source": [
    "# Reference http://scikit-learn.org/stable/modules/svm.html"
   ]
  },
  {
   "cell_type": "code",
   "execution_count": 3,
   "metadata": {
    "collapsed": false
   },
   "outputs": [],
   "source": [
    "# Replace categoricals and boolean variables in data frame\n",
    "def transform_df(df):\n",
    "    df =df.drop(df.columns[0],axis=1) # drop panda indexing column\n",
    "    \n",
    "    #df= df.drop('Over18',axis=1)\n",
    "    \n",
    "    # One Hot encoding for categorical variables\n",
    "    categoricals = ['BusinessTravel','Department', 'EducationField','JobRole','MaritalStatus']\n",
    "    for item in categoricals:\n",
    "        dummy = pd.get_dummies(df[item], prefix=item)\n",
    "        df = df.join(dummy.loc[:, :])\n",
    "        df = df.drop(item, axis=1)\n",
    "        \n",
    "    #Transform boolean values into numbers\n",
    "    df['Attrition'] = df['Attrition'].map(lambda x: 0 if x == 'No' else 1)\n",
    "    df['OverTime'] = df['OverTime'].map(lambda x: 0 if x == 'No' else 1)\n",
    "    df['Gender'] = df['Gender'].map(lambda x: 0 if x== 'Female' else 1)\n",
    "    df['Over18'] = df['Over18'].map(lambda x: 0 if x=='N' else 1)\n",
    "    return df"
   ]
  },
  {
   "cell_type": "code",
   "execution_count": 4,
   "metadata": {
    "collapsed": false
   },
   "outputs": [],
   "source": [
    "# Normalize data before training the model\n",
    "from sklearn.preprocessing import StandardScaler\n",
    "\n",
    "# Create training and test sets\n",
    "train_set = pd.read_csv(\"trainEmployeeData.csv\")\n",
    "test_set = pd.read_csv(\"testEmployeeData.csv\")\n",
    "\n",
    "# Apply transformation\n",
    "train_set = transform_df(train_set)\n",
    "test_set = transform_df(test_set)\n",
    "\n",
    "y_train = train_set['Attrition']\n",
    "x_train = train_set.drop(['Attrition', 'Over18'], axis=1)\n",
    "\n",
    "scalerTrain = StandardScaler()\n",
    "scalerTrain.fit(x_train)\n",
    "x_train = scalerTrain.transform(x_train) #Standardized\n",
    "\n",
    "y_test = test_set['Attrition']\n",
    "x_test = test_set.drop(['Attrition', 'Over18'], axis=1)\n",
    "\n",
    "scalerTest = StandardScaler()\n",
    "scalerTest.fit(x_test)\n",
    "x_test = scalerTest.transform(x_test) #Standardized"
   ]
  },
  {
   "cell_type": "code",
   "execution_count": 5,
   "metadata": {
    "collapsed": false
   },
   "outputs": [
    {
     "data": {
      "text/html": [
       "<div>\n",
       "<style>\n",
       "    .dataframe thead tr:only-child th {\n",
       "        text-align: right;\n",
       "    }\n",
       "\n",
       "    .dataframe thead th {\n",
       "        text-align: left;\n",
       "    }\n",
       "\n",
       "    .dataframe tbody tr th {\n",
       "        vertical-align: top;\n",
       "    }\n",
       "</style>\n",
       "<table border=\"1\" class=\"dataframe\">\n",
       "  <thead>\n",
       "    <tr style=\"text-align: right;\">\n",
       "      <th></th>\n",
       "      <th>Age</th>\n",
       "      <th>Attrition</th>\n",
       "      <th>DailyRate</th>\n",
       "      <th>DistanceFromHome</th>\n",
       "      <th>Education</th>\n",
       "      <th>EmployeeCount</th>\n",
       "      <th>EmployeeNumber</th>\n",
       "      <th>EnvironmentSatisfaction</th>\n",
       "      <th>Gender</th>\n",
       "      <th>HourlyRate</th>\n",
       "      <th>...</th>\n",
       "      <th>JobRole_Laboratory Technician</th>\n",
       "      <th>JobRole_Manager</th>\n",
       "      <th>JobRole_Manufacturing Director</th>\n",
       "      <th>JobRole_Research Director</th>\n",
       "      <th>JobRole_Research Scientist</th>\n",
       "      <th>JobRole_Sales Executive</th>\n",
       "      <th>JobRole_Sales Representative</th>\n",
       "      <th>MaritalStatus_Divorced</th>\n",
       "      <th>MaritalStatus_Married</th>\n",
       "      <th>MaritalStatus_Single</th>\n",
       "    </tr>\n",
       "  </thead>\n",
       "  <tbody>\n",
       "    <tr>\n",
       "      <th>0</th>\n",
       "      <td>42</td>\n",
       "      <td>0</td>\n",
       "      <td>201</td>\n",
       "      <td>1</td>\n",
       "      <td>4</td>\n",
       "      <td>1</td>\n",
       "      <td>517</td>\n",
       "      <td>2</td>\n",
       "      <td>0</td>\n",
       "      <td>95</td>\n",
       "      <td>...</td>\n",
       "      <td>1</td>\n",
       "      <td>0</td>\n",
       "      <td>0</td>\n",
       "      <td>0</td>\n",
       "      <td>0</td>\n",
       "      <td>0</td>\n",
       "      <td>0</td>\n",
       "      <td>1</td>\n",
       "      <td>0</td>\n",
       "      <td>0</td>\n",
       "    </tr>\n",
       "    <tr>\n",
       "      <th>1</th>\n",
       "      <td>32</td>\n",
       "      <td>0</td>\n",
       "      <td>128</td>\n",
       "      <td>2</td>\n",
       "      <td>1</td>\n",
       "      <td>1</td>\n",
       "      <td>362</td>\n",
       "      <td>4</td>\n",
       "      <td>1</td>\n",
       "      <td>84</td>\n",
       "      <td>...</td>\n",
       "      <td>1</td>\n",
       "      <td>0</td>\n",
       "      <td>0</td>\n",
       "      <td>0</td>\n",
       "      <td>0</td>\n",
       "      <td>0</td>\n",
       "      <td>0</td>\n",
       "      <td>0</td>\n",
       "      <td>0</td>\n",
       "      <td>1</td>\n",
       "    </tr>\n",
       "    <tr>\n",
       "      <th>2</th>\n",
       "      <td>48</td>\n",
       "      <td>0</td>\n",
       "      <td>715</td>\n",
       "      <td>1</td>\n",
       "      <td>3</td>\n",
       "      <td>1</td>\n",
       "      <td>1263</td>\n",
       "      <td>4</td>\n",
       "      <td>1</td>\n",
       "      <td>76</td>\n",
       "      <td>...</td>\n",
       "      <td>0</td>\n",
       "      <td>0</td>\n",
       "      <td>0</td>\n",
       "      <td>1</td>\n",
       "      <td>0</td>\n",
       "      <td>0</td>\n",
       "      <td>0</td>\n",
       "      <td>0</td>\n",
       "      <td>0</td>\n",
       "      <td>1</td>\n",
       "    </tr>\n",
       "    <tr>\n",
       "      <th>3</th>\n",
       "      <td>51</td>\n",
       "      <td>0</td>\n",
       "      <td>432</td>\n",
       "      <td>9</td>\n",
       "      <td>4</td>\n",
       "      <td>1</td>\n",
       "      <td>116</td>\n",
       "      <td>4</td>\n",
       "      <td>1</td>\n",
       "      <td>96</td>\n",
       "      <td>...</td>\n",
       "      <td>1</td>\n",
       "      <td>0</td>\n",
       "      <td>0</td>\n",
       "      <td>0</td>\n",
       "      <td>0</td>\n",
       "      <td>0</td>\n",
       "      <td>0</td>\n",
       "      <td>0</td>\n",
       "      <td>1</td>\n",
       "      <td>0</td>\n",
       "    </tr>\n",
       "    <tr>\n",
       "      <th>4</th>\n",
       "      <td>29</td>\n",
       "      <td>0</td>\n",
       "      <td>726</td>\n",
       "      <td>29</td>\n",
       "      <td>1</td>\n",
       "      <td>1</td>\n",
       "      <td>1859</td>\n",
       "      <td>4</td>\n",
       "      <td>1</td>\n",
       "      <td>93</td>\n",
       "      <td>...</td>\n",
       "      <td>0</td>\n",
       "      <td>0</td>\n",
       "      <td>0</td>\n",
       "      <td>0</td>\n",
       "      <td>0</td>\n",
       "      <td>0</td>\n",
       "      <td>0</td>\n",
       "      <td>1</td>\n",
       "      <td>0</td>\n",
       "      <td>0</td>\n",
       "    </tr>\n",
       "  </tbody>\n",
       "</table>\n",
       "<p>5 rows × 54 columns</p>\n",
       "</div>"
      ],
      "text/plain": [
       "   Age  Attrition  DailyRate  DistanceFromHome  Education  EmployeeCount  \\\n",
       "0   42          0        201                 1          4              1   \n",
       "1   32          0        128                 2          1              1   \n",
       "2   48          0        715                 1          3              1   \n",
       "3   51          0        432                 9          4              1   \n",
       "4   29          0        726                29          1              1   \n",
       "\n",
       "   EmployeeNumber  EnvironmentSatisfaction  Gender  HourlyRate  \\\n",
       "0             517                        2       0          95   \n",
       "1             362                        4       1          84   \n",
       "2            1263                        4       1          76   \n",
       "3             116                        4       1          96   \n",
       "4            1859                        4       1          93   \n",
       "\n",
       "           ...           JobRole_Laboratory Technician  JobRole_Manager  \\\n",
       "0          ...                                       1                0   \n",
       "1          ...                                       1                0   \n",
       "2          ...                                       0                0   \n",
       "3          ...                                       1                0   \n",
       "4          ...                                       0                0   \n",
       "\n",
       "   JobRole_Manufacturing Director  JobRole_Research Director  \\\n",
       "0                               0                          0   \n",
       "1                               0                          0   \n",
       "2                               0                          1   \n",
       "3                               0                          0   \n",
       "4                               0                          0   \n",
       "\n",
       "   JobRole_Research Scientist  JobRole_Sales Executive  \\\n",
       "0                           0                        0   \n",
       "1                           0                        0   \n",
       "2                           0                        0   \n",
       "3                           0                        0   \n",
       "4                           0                        0   \n",
       "\n",
       "   JobRole_Sales Representative  MaritalStatus_Divorced  \\\n",
       "0                             0                       1   \n",
       "1                             0                       0   \n",
       "2                             0                       0   \n",
       "3                             0                       0   \n",
       "4                             0                       1   \n",
       "\n",
       "   MaritalStatus_Married  MaritalStatus_Single  \n",
       "0                      0                     0  \n",
       "1                      0                     1  \n",
       "2                      0                     1  \n",
       "3                      1                     0  \n",
       "4                      0                     0  \n",
       "\n",
       "[5 rows x 54 columns]"
      ]
     },
     "execution_count": 5,
     "metadata": {},
     "output_type": "execute_result"
    }
   ],
   "source": [
    "train_set.head()"
   ]
  },
  {
   "cell_type": "code",
   "execution_count": 6,
   "metadata": {
    "collapsed": false
   },
   "outputs": [
    {
     "data": {
      "text/plain": [
       "array([ 0.42384317,  0.71042311, -0.98478579, -0.93620388,  0.        ,\n",
       "       -1.68853446, -0.64249635, -1.1957224 ,  1.34783461,  0.45735895,\n",
       "       -0.13790199,  1.2176338 , -0.18352903,  0.66703075,  2.19380326,\n",
       "        1.91485422, -1.10298371, -0.4417261 , -1.54797565,  0.        ,\n",
       "       -0.93199526, -0.49634677, -2.21733064, -2.37223837, -0.2981718 ,\n",
       "       -0.17775267, -0.72985805,  0.1703913 , -0.37354368, -0.48507125,\n",
       "        0.67486706, -0.1672484 , -1.18736518,  1.25656172, -0.13153341,\n",
       "        1.28399714, -0.3968379 , -0.69631062, -0.23186945, -0.31799936,\n",
       "       -0.31799936, -0.1672484 , -0.40824829, -0.27017161, -0.36162029,\n",
       "       -0.20628425, -0.43621486,  1.54250133, -0.24773341, -0.52750438,\n",
       "       -0.95346259,  1.50554531])"
      ]
     },
     "execution_count": 6,
     "metadata": {},
     "output_type": "execute_result"
    }
   ],
   "source": [
    "x_test[0] # Standardized"
   ]
  },
  {
   "cell_type": "markdown",
   "metadata": {},
   "source": [
    "### Run grid search to determine hyperparameters"
   ]
  },
  {
   "cell_type": "code",
   "execution_count": 7,
   "metadata": {
    "collapsed": false
   },
   "outputs": [
    {
     "name": "stdout",
     "output_type": "stream",
     "text": [
      "Fitting 5 folds for each of 68 candidates, totalling 340 fits\n"
     ]
    },
    {
     "name": "stderr",
     "output_type": "stream",
     "text": [
      "[Parallel(n_jobs=1)]: Done 340 out of 340 | elapsed:  1.5min finished\n"
     ]
    },
    {
     "data": {
      "text/plain": [
       "GridSearchCV(cv=5, error_score='raise',\n",
       "       estimator=SVC(C=1.0, cache_size=200, class_weight=None, coef0=0.0,\n",
       "  decision_function_shape='ovr', degree=3, gamma='auto', kernel='rbf',\n",
       "  max_iter=-1, probability=False, random_state=None, shrinking=True,\n",
       "  tol=0.001, verbose=False),\n",
       "       fit_params=None, iid=True, n_jobs=1,\n",
       "       param_grid=[{'C': [0.1, 1, 10, 100], 'gamma': [0.1, 0.01, 0.001, 0.0001], 'degree': [1, 2, 3], 'kernel': ['poly']}, {'C': [0.1, 1, 10, 100], 'gamma': [0.1, 0.01, 0.001, 0.0001], 'kernel': ['rbf']}, {'C': [0.1, 1, 10, 100], 'kernel': ['linear']}],\n",
       "       pre_dispatch='2*n_jobs', refit=True, return_train_score=True,\n",
       "       scoring=None, verbose=1)"
      ]
     },
     "execution_count": 7,
     "metadata": {},
     "output_type": "execute_result"
    }
   ],
   "source": [
    "from sklearn.model_selection import GridSearchCV\n",
    "from sklearn.svm import SVC\n",
    "\n",
    "param_grid = [\n",
    "  {'C': [0.1, 1, 10, 100], 'gamma': [  0.1, 0.01, 0.001, 0.0001],'degree': [1,2,3], 'kernel': ['poly']},\n",
    "  {'C': [0.1, 1, 10, 100], 'gamma': [ 0.1, 0.01, 0.001, 0.0001], 'kernel': ['rbf']},\n",
    "    {'C': [0.1, 1, 10, 100], 'kernel': ['linear']},\n",
    "]\n",
    "\n",
    "svc = svm.SVC()\n",
    "clf = GridSearchCV(svc, param_grid, verbose = 1, cv  = 5)\n",
    "clf.fit(x_train, y_train)"
   ]
  },
  {
   "cell_type": "code",
   "execution_count": 8,
   "metadata": {
    "collapsed": false
   },
   "outputs": [
    {
     "data": {
      "text/plain": [
       "{'C': 1, 'degree': 1, 'gamma': 0.1, 'kernel': 'poly'}"
      ]
     },
     "execution_count": 8,
     "metadata": {},
     "output_type": "execute_result"
    }
   ],
   "source": [
    "clf.best_params_"
   ]
  },
  {
   "cell_type": "code",
   "execution_count": 9,
   "metadata": {
    "collapsed": false
   },
   "outputs": [
    {
     "data": {
      "text/plain": [
       "0.88010204081632648"
      ]
     },
     "execution_count": 9,
     "metadata": {},
     "output_type": "execute_result"
    }
   ],
   "source": [
    "clf.best_score_"
   ]
  },
  {
   "cell_type": "code",
   "execution_count": 10,
   "metadata": {
    "collapsed": false
   },
   "outputs": [
    {
     "name": "stderr",
     "output_type": "stream",
     "text": [
      "/Library/Frameworks/Python.framework/Versions/3.4/lib/python3.4/site-packages/sklearn/model_selection/_search.py:747: DeprecationWarning: The grid_scores_ attribute was deprecated in version 0.18 in favor of the more elaborate cv_results_ attribute. The grid_scores_ attribute will not be available from 0.20\n",
      "  DeprecationWarning)\n"
     ]
    },
    {
     "data": {
      "text/html": [
       "<div>\n",
       "<style>\n",
       "    .dataframe thead tr:only-child th {\n",
       "        text-align: right;\n",
       "    }\n",
       "\n",
       "    .dataframe thead th {\n",
       "        text-align: left;\n",
       "    }\n",
       "\n",
       "    .dataframe tbody tr th {\n",
       "        vertical-align: top;\n",
       "    }\n",
       "</style>\n",
       "<table border=\"1\" class=\"dataframe\">\n",
       "  <thead>\n",
       "    <tr style=\"text-align: right;\">\n",
       "      <th></th>\n",
       "      <th>parameters</th>\n",
       "      <th>mean_validation_score</th>\n",
       "      <th>cv_validation_scores</th>\n",
       "    </tr>\n",
       "  </thead>\n",
       "  <tbody>\n",
       "    <tr>\n",
       "      <th>0</th>\n",
       "      <td>{'C': 0.1, 'gamma': 0.1, 'degree': 1, 'kernel'...</td>\n",
       "      <td>0.850340</td>\n",
       "      <td>[0.847457627119, 0.851063829787, 0.85957446808...</td>\n",
       "    </tr>\n",
       "    <tr>\n",
       "      <th>1</th>\n",
       "      <td>{'C': 0.1, 'gamma': 0.01, 'degree': 1, 'kernel...</td>\n",
       "      <td>0.837585</td>\n",
       "      <td>[0.834745762712, 0.83829787234, 0.83829787234,...</td>\n",
       "    </tr>\n",
       "    <tr>\n",
       "      <th>2</th>\n",
       "      <td>{'C': 0.1, 'gamma': 0.001, 'degree': 1, 'kerne...</td>\n",
       "      <td>0.837585</td>\n",
       "      <td>[0.834745762712, 0.83829787234, 0.83829787234,...</td>\n",
       "    </tr>\n",
       "    <tr>\n",
       "      <th>3</th>\n",
       "      <td>{'C': 0.1, 'gamma': 0.0001, 'degree': 1, 'kern...</td>\n",
       "      <td>0.837585</td>\n",
       "      <td>[0.834745762712, 0.83829787234, 0.83829787234,...</td>\n",
       "    </tr>\n",
       "    <tr>\n",
       "      <th>4</th>\n",
       "      <td>{'C': 0.1, 'gamma': 0.1, 'degree': 2, 'kernel'...</td>\n",
       "      <td>0.827381</td>\n",
       "      <td>[0.826271186441, 0.821276595745, 0.82978723404...</td>\n",
       "    </tr>\n",
       "    <tr>\n",
       "      <th>5</th>\n",
       "      <td>{'C': 0.1, 'gamma': 0.01, 'degree': 2, 'kernel...</td>\n",
       "      <td>0.837585</td>\n",
       "      <td>[0.834745762712, 0.83829787234, 0.83829787234,...</td>\n",
       "    </tr>\n",
       "    <tr>\n",
       "      <th>6</th>\n",
       "      <td>{'C': 0.1, 'gamma': 0.001, 'degree': 2, 'kerne...</td>\n",
       "      <td>0.837585</td>\n",
       "      <td>[0.834745762712, 0.83829787234, 0.83829787234,...</td>\n",
       "    </tr>\n",
       "    <tr>\n",
       "      <th>7</th>\n",
       "      <td>{'C': 0.1, 'gamma': 0.0001, 'degree': 2, 'kern...</td>\n",
       "      <td>0.837585</td>\n",
       "      <td>[0.834745762712, 0.83829787234, 0.83829787234,...</td>\n",
       "    </tr>\n",
       "    <tr>\n",
       "      <th>8</th>\n",
       "      <td>{'C': 0.1, 'gamma': 0.1, 'degree': 3, 'kernel'...</td>\n",
       "      <td>0.844388</td>\n",
       "      <td>[0.830508474576, 0.829787234043, 0.86382978723...</td>\n",
       "    </tr>\n",
       "    <tr>\n",
       "      <th>9</th>\n",
       "      <td>{'C': 0.1, 'gamma': 0.01, 'degree': 3, 'kernel...</td>\n",
       "      <td>0.837585</td>\n",
       "      <td>[0.834745762712, 0.83829787234, 0.83829787234,...</td>\n",
       "    </tr>\n",
       "    <tr>\n",
       "      <th>10</th>\n",
       "      <td>{'C': 0.1, 'gamma': 0.001, 'degree': 3, 'kerne...</td>\n",
       "      <td>0.837585</td>\n",
       "      <td>[0.834745762712, 0.83829787234, 0.83829787234,...</td>\n",
       "    </tr>\n",
       "    <tr>\n",
       "      <th>11</th>\n",
       "      <td>{'C': 0.1, 'gamma': 0.0001, 'degree': 3, 'kern...</td>\n",
       "      <td>0.837585</td>\n",
       "      <td>[0.834745762712, 0.83829787234, 0.83829787234,...</td>\n",
       "    </tr>\n",
       "    <tr>\n",
       "      <th>12</th>\n",
       "      <td>{'C': 1, 'gamma': 0.1, 'degree': 1, 'kernel': ...</td>\n",
       "      <td>0.880102</td>\n",
       "      <td>[0.864406779661, 0.889361702128, 0.87234042553...</td>\n",
       "    </tr>\n",
       "    <tr>\n",
       "      <th>13</th>\n",
       "      <td>{'C': 1, 'gamma': 0.01, 'degree': 1, 'kernel':...</td>\n",
       "      <td>0.850340</td>\n",
       "      <td>[0.847457627119, 0.851063829787, 0.85957446808...</td>\n",
       "    </tr>\n",
       "    <tr>\n",
       "      <th>14</th>\n",
       "      <td>{'C': 1, 'gamma': 0.001, 'degree': 1, 'kernel'...</td>\n",
       "      <td>0.837585</td>\n",
       "      <td>[0.834745762712, 0.83829787234, 0.83829787234,...</td>\n",
       "    </tr>\n",
       "    <tr>\n",
       "      <th>15</th>\n",
       "      <td>{'C': 1, 'gamma': 0.0001, 'degree': 1, 'kernel...</td>\n",
       "      <td>0.837585</td>\n",
       "      <td>[0.834745762712, 0.83829787234, 0.83829787234,...</td>\n",
       "    </tr>\n",
       "    <tr>\n",
       "      <th>16</th>\n",
       "      <td>{'C': 1, 'gamma': 0.1, 'degree': 2, 'kernel': ...</td>\n",
       "      <td>0.766156</td>\n",
       "      <td>[0.783898305085, 0.748936170213, 0.74893617021...</td>\n",
       "    </tr>\n",
       "    <tr>\n",
       "      <th>17</th>\n",
       "      <td>{'C': 1, 'gamma': 0.01, 'degree': 2, 'kernel':...</td>\n",
       "      <td>0.838435</td>\n",
       "      <td>[0.834745762712, 0.83829787234, 0.83829787234,...</td>\n",
       "    </tr>\n",
       "    <tr>\n",
       "      <th>18</th>\n",
       "      <td>{'C': 1, 'gamma': 0.001, 'degree': 2, 'kernel'...</td>\n",
       "      <td>0.837585</td>\n",
       "      <td>[0.834745762712, 0.83829787234, 0.83829787234,...</td>\n",
       "    </tr>\n",
       "    <tr>\n",
       "      <th>19</th>\n",
       "      <td>{'C': 1, 'gamma': 0.0001, 'degree': 2, 'kernel...</td>\n",
       "      <td>0.837585</td>\n",
       "      <td>[0.834745762712, 0.83829787234, 0.83829787234,...</td>\n",
       "    </tr>\n",
       "    <tr>\n",
       "      <th>20</th>\n",
       "      <td>{'C': 1, 'gamma': 0.1, 'degree': 3, 'kernel': ...</td>\n",
       "      <td>0.845238</td>\n",
       "      <td>[0.830508474576, 0.829787234043, 0.87234042553...</td>\n",
       "    </tr>\n",
       "    <tr>\n",
       "      <th>21</th>\n",
       "      <td>{'C': 1, 'gamma': 0.01, 'degree': 3, 'kernel':...</td>\n",
       "      <td>0.837585</td>\n",
       "      <td>[0.834745762712, 0.83829787234, 0.83829787234,...</td>\n",
       "    </tr>\n",
       "    <tr>\n",
       "      <th>22</th>\n",
       "      <td>{'C': 1, 'gamma': 0.001, 'degree': 3, 'kernel'...</td>\n",
       "      <td>0.837585</td>\n",
       "      <td>[0.834745762712, 0.83829787234, 0.83829787234,...</td>\n",
       "    </tr>\n",
       "    <tr>\n",
       "      <th>23</th>\n",
       "      <td>{'C': 1, 'gamma': 0.0001, 'degree': 3, 'kernel...</td>\n",
       "      <td>0.837585</td>\n",
       "      <td>[0.834745762712, 0.83829787234, 0.83829787234,...</td>\n",
       "    </tr>\n",
       "    <tr>\n",
       "      <th>24</th>\n",
       "      <td>{'C': 10, 'gamma': 0.1, 'degree': 1, 'kernel':...</td>\n",
       "      <td>0.880102</td>\n",
       "      <td>[0.864406779661, 0.889361702128, 0.86808510638...</td>\n",
       "    </tr>\n",
       "    <tr>\n",
       "      <th>25</th>\n",
       "      <td>{'C': 10, 'gamma': 0.01, 'degree': 1, 'kernel'...</td>\n",
       "      <td>0.880102</td>\n",
       "      <td>[0.864406779661, 0.889361702128, 0.87234042553...</td>\n",
       "    </tr>\n",
       "    <tr>\n",
       "      <th>26</th>\n",
       "      <td>{'C': 10, 'gamma': 0.001, 'degree': 1, 'kernel...</td>\n",
       "      <td>0.850340</td>\n",
       "      <td>[0.847457627119, 0.851063829787, 0.85957446808...</td>\n",
       "    </tr>\n",
       "    <tr>\n",
       "      <th>27</th>\n",
       "      <td>{'C': 10, 'gamma': 0.0001, 'degree': 1, 'kerne...</td>\n",
       "      <td>0.837585</td>\n",
       "      <td>[0.834745762712, 0.83829787234, 0.83829787234,...</td>\n",
       "    </tr>\n",
       "    <tr>\n",
       "      <th>28</th>\n",
       "      <td>{'C': 10, 'gamma': 0.1, 'degree': 2, 'kernel':...</td>\n",
       "      <td>0.768707</td>\n",
       "      <td>[0.766949152542, 0.753191489362, 0.75319148936...</td>\n",
       "    </tr>\n",
       "    <tr>\n",
       "      <th>29</th>\n",
       "      <td>{'C': 10, 'gamma': 0.01, 'degree': 2, 'kernel'...</td>\n",
       "      <td>0.827381</td>\n",
       "      <td>[0.826271186441, 0.821276595745, 0.82978723404...</td>\n",
       "    </tr>\n",
       "    <tr>\n",
       "      <th>...</th>\n",
       "      <td>...</td>\n",
       "      <td>...</td>\n",
       "      <td>...</td>\n",
       "    </tr>\n",
       "    <tr>\n",
       "      <th>38</th>\n",
       "      <td>{'C': 100, 'gamma': 0.001, 'degree': 1, 'kerne...</td>\n",
       "      <td>0.880102</td>\n",
       "      <td>[0.864406779661, 0.889361702128, 0.87234042553...</td>\n",
       "    </tr>\n",
       "    <tr>\n",
       "      <th>39</th>\n",
       "      <td>{'C': 100, 'gamma': 0.0001, 'degree': 1, 'kern...</td>\n",
       "      <td>0.850340</td>\n",
       "      <td>[0.847457627119, 0.851063829787, 0.85957446808...</td>\n",
       "    </tr>\n",
       "    <tr>\n",
       "      <th>40</th>\n",
       "      <td>{'C': 100, 'gamma': 0.1, 'degree': 2, 'kernel'...</td>\n",
       "      <td>0.768707</td>\n",
       "      <td>[0.766949152542, 0.753191489362, 0.75319148936...</td>\n",
       "    </tr>\n",
       "    <tr>\n",
       "      <th>41</th>\n",
       "      <td>{'C': 100, 'gamma': 0.01, 'degree': 2, 'kernel...</td>\n",
       "      <td>0.766156</td>\n",
       "      <td>[0.783898305085, 0.748936170213, 0.74893617021...</td>\n",
       "    </tr>\n",
       "    <tr>\n",
       "      <th>42</th>\n",
       "      <td>{'C': 100, 'gamma': 0.001, 'degree': 2, 'kerne...</td>\n",
       "      <td>0.838435</td>\n",
       "      <td>[0.834745762712, 0.83829787234, 0.83829787234,...</td>\n",
       "    </tr>\n",
       "    <tr>\n",
       "      <th>43</th>\n",
       "      <td>{'C': 100, 'gamma': 0.0001, 'degree': 2, 'kern...</td>\n",
       "      <td>0.837585</td>\n",
       "      <td>[0.834745762712, 0.83829787234, 0.83829787234,...</td>\n",
       "    </tr>\n",
       "    <tr>\n",
       "      <th>44</th>\n",
       "      <td>{'C': 100, 'gamma': 0.1, 'degree': 3, 'kernel'...</td>\n",
       "      <td>0.845238</td>\n",
       "      <td>[0.830508474576, 0.829787234043, 0.87234042553...</td>\n",
       "    </tr>\n",
       "    <tr>\n",
       "      <th>45</th>\n",
       "      <td>{'C': 100, 'gamma': 0.01, 'degree': 3, 'kernel...</td>\n",
       "      <td>0.844388</td>\n",
       "      <td>[0.830508474576, 0.829787234043, 0.86382978723...</td>\n",
       "    </tr>\n",
       "    <tr>\n",
       "      <th>46</th>\n",
       "      <td>{'C': 100, 'gamma': 0.001, 'degree': 3, 'kerne...</td>\n",
       "      <td>0.837585</td>\n",
       "      <td>[0.834745762712, 0.83829787234, 0.83829787234,...</td>\n",
       "    </tr>\n",
       "    <tr>\n",
       "      <th>47</th>\n",
       "      <td>{'C': 100, 'gamma': 0.0001, 'degree': 3, 'kern...</td>\n",
       "      <td>0.837585</td>\n",
       "      <td>[0.834745762712, 0.83829787234, 0.83829787234,...</td>\n",
       "    </tr>\n",
       "    <tr>\n",
       "      <th>48</th>\n",
       "      <td>{'C': 0.1, 'gamma': 0.1, 'kernel': 'rbf'}</td>\n",
       "      <td>0.837585</td>\n",
       "      <td>[0.834745762712, 0.83829787234, 0.83829787234,...</td>\n",
       "    </tr>\n",
       "    <tr>\n",
       "      <th>49</th>\n",
       "      <td>{'C': 0.1, 'gamma': 0.01, 'kernel': 'rbf'}</td>\n",
       "      <td>0.837585</td>\n",
       "      <td>[0.834745762712, 0.83829787234, 0.83829787234,...</td>\n",
       "    </tr>\n",
       "    <tr>\n",
       "      <th>50</th>\n",
       "      <td>{'C': 0.1, 'gamma': 0.001, 'kernel': 'rbf'}</td>\n",
       "      <td>0.837585</td>\n",
       "      <td>[0.834745762712, 0.83829787234, 0.83829787234,...</td>\n",
       "    </tr>\n",
       "    <tr>\n",
       "      <th>51</th>\n",
       "      <td>{'C': 0.1, 'gamma': 0.0001, 'kernel': 'rbf'}</td>\n",
       "      <td>0.837585</td>\n",
       "      <td>[0.834745762712, 0.83829787234, 0.83829787234,...</td>\n",
       "    </tr>\n",
       "    <tr>\n",
       "      <th>52</th>\n",
       "      <td>{'C': 1, 'gamma': 0.1, 'kernel': 'rbf'}</td>\n",
       "      <td>0.837585</td>\n",
       "      <td>[0.834745762712, 0.83829787234, 0.83829787234,...</td>\n",
       "    </tr>\n",
       "    <tr>\n",
       "      <th>53</th>\n",
       "      <td>{'C': 1, 'gamma': 0.01, 'kernel': 'rbf'}</td>\n",
       "      <td>0.860544</td>\n",
       "      <td>[0.860169491525, 0.859574468085, 0.86382978723...</td>\n",
       "    </tr>\n",
       "    <tr>\n",
       "      <th>54</th>\n",
       "      <td>{'C': 1, 'gamma': 0.001, 'kernel': 'rbf'}</td>\n",
       "      <td>0.837585</td>\n",
       "      <td>[0.834745762712, 0.83829787234, 0.83829787234,...</td>\n",
       "    </tr>\n",
       "    <tr>\n",
       "      <th>55</th>\n",
       "      <td>{'C': 1, 'gamma': 0.0001, 'kernel': 'rbf'}</td>\n",
       "      <td>0.837585</td>\n",
       "      <td>[0.834745762712, 0.83829787234, 0.83829787234,...</td>\n",
       "    </tr>\n",
       "    <tr>\n",
       "      <th>56</th>\n",
       "      <td>{'C': 10, 'gamma': 0.1, 'kernel': 'rbf'}</td>\n",
       "      <td>0.835034</td>\n",
       "      <td>[0.830508474576, 0.834042553191, 0.83829787234...</td>\n",
       "    </tr>\n",
       "    <tr>\n",
       "      <th>57</th>\n",
       "      <td>{'C': 10, 'gamma': 0.01, 'kernel': 'rbf'}</td>\n",
       "      <td>0.855442</td>\n",
       "      <td>[0.860169491525, 0.825531914894, 0.85957446808...</td>\n",
       "    </tr>\n",
       "    <tr>\n",
       "      <th>58</th>\n",
       "      <td>{'C': 10, 'gamma': 0.001, 'kernel': 'rbf'}</td>\n",
       "      <td>0.863946</td>\n",
       "      <td>[0.851694915254, 0.859574468085, 0.86808510638...</td>\n",
       "    </tr>\n",
       "    <tr>\n",
       "      <th>59</th>\n",
       "      <td>{'C': 10, 'gamma': 0.0001, 'kernel': 'rbf'}</td>\n",
       "      <td>0.837585</td>\n",
       "      <td>[0.834745762712, 0.83829787234, 0.83829787234,...</td>\n",
       "    </tr>\n",
       "    <tr>\n",
       "      <th>60</th>\n",
       "      <td>{'C': 100, 'gamma': 0.1, 'kernel': 'rbf'}</td>\n",
       "      <td>0.835034</td>\n",
       "      <td>[0.830508474576, 0.834042553191, 0.83829787234...</td>\n",
       "    </tr>\n",
       "    <tr>\n",
       "      <th>61</th>\n",
       "      <td>{'C': 100, 'gamma': 0.01, 'kernel': 'rbf'}</td>\n",
       "      <td>0.832483</td>\n",
       "      <td>[0.834745762712, 0.791489361702, 0.84255319148...</td>\n",
       "    </tr>\n",
       "    <tr>\n",
       "      <th>62</th>\n",
       "      <td>{'C': 100, 'gamma': 0.001, 'kernel': 'rbf'}</td>\n",
       "      <td>0.874150</td>\n",
       "      <td>[0.860169491525, 0.876595744681, 0.85531914893...</td>\n",
       "    </tr>\n",
       "    <tr>\n",
       "      <th>63</th>\n",
       "      <td>{'C': 100, 'gamma': 0.0001, 'kernel': 'rbf'}</td>\n",
       "      <td>0.870748</td>\n",
       "      <td>[0.851694915254, 0.863829787234, 0.87234042553...</td>\n",
       "    </tr>\n",
       "    <tr>\n",
       "      <th>64</th>\n",
       "      <td>{'C': 0.1, 'kernel': 'linear'}</td>\n",
       "      <td>0.880102</td>\n",
       "      <td>[0.864406779661, 0.889361702128, 0.87234042553...</td>\n",
       "    </tr>\n",
       "    <tr>\n",
       "      <th>65</th>\n",
       "      <td>{'C': 1, 'kernel': 'linear'}</td>\n",
       "      <td>0.880102</td>\n",
       "      <td>[0.864406779661, 0.889361702128, 0.86808510638...</td>\n",
       "    </tr>\n",
       "    <tr>\n",
       "      <th>66</th>\n",
       "      <td>{'C': 10, 'kernel': 'linear'}</td>\n",
       "      <td>0.878401</td>\n",
       "      <td>[0.864406779661, 0.876595744681, 0.86808510638...</td>\n",
       "    </tr>\n",
       "    <tr>\n",
       "      <th>67</th>\n",
       "      <td>{'C': 100, 'kernel': 'linear'}</td>\n",
       "      <td>0.877551</td>\n",
       "      <td>[0.864406779661, 0.876595744681, 0.86808510638...</td>\n",
       "    </tr>\n",
       "  </tbody>\n",
       "</table>\n",
       "<p>68 rows × 3 columns</p>\n",
       "</div>"
      ],
      "text/plain": [
       "                                           parameters  mean_validation_score  \\\n",
       "0   {'C': 0.1, 'gamma': 0.1, 'degree': 1, 'kernel'...               0.850340   \n",
       "1   {'C': 0.1, 'gamma': 0.01, 'degree': 1, 'kernel...               0.837585   \n",
       "2   {'C': 0.1, 'gamma': 0.001, 'degree': 1, 'kerne...               0.837585   \n",
       "3   {'C': 0.1, 'gamma': 0.0001, 'degree': 1, 'kern...               0.837585   \n",
       "4   {'C': 0.1, 'gamma': 0.1, 'degree': 2, 'kernel'...               0.827381   \n",
       "5   {'C': 0.1, 'gamma': 0.01, 'degree': 2, 'kernel...               0.837585   \n",
       "6   {'C': 0.1, 'gamma': 0.001, 'degree': 2, 'kerne...               0.837585   \n",
       "7   {'C': 0.1, 'gamma': 0.0001, 'degree': 2, 'kern...               0.837585   \n",
       "8   {'C': 0.1, 'gamma': 0.1, 'degree': 3, 'kernel'...               0.844388   \n",
       "9   {'C': 0.1, 'gamma': 0.01, 'degree': 3, 'kernel...               0.837585   \n",
       "10  {'C': 0.1, 'gamma': 0.001, 'degree': 3, 'kerne...               0.837585   \n",
       "11  {'C': 0.1, 'gamma': 0.0001, 'degree': 3, 'kern...               0.837585   \n",
       "12  {'C': 1, 'gamma': 0.1, 'degree': 1, 'kernel': ...               0.880102   \n",
       "13  {'C': 1, 'gamma': 0.01, 'degree': 1, 'kernel':...               0.850340   \n",
       "14  {'C': 1, 'gamma': 0.001, 'degree': 1, 'kernel'...               0.837585   \n",
       "15  {'C': 1, 'gamma': 0.0001, 'degree': 1, 'kernel...               0.837585   \n",
       "16  {'C': 1, 'gamma': 0.1, 'degree': 2, 'kernel': ...               0.766156   \n",
       "17  {'C': 1, 'gamma': 0.01, 'degree': 2, 'kernel':...               0.838435   \n",
       "18  {'C': 1, 'gamma': 0.001, 'degree': 2, 'kernel'...               0.837585   \n",
       "19  {'C': 1, 'gamma': 0.0001, 'degree': 2, 'kernel...               0.837585   \n",
       "20  {'C': 1, 'gamma': 0.1, 'degree': 3, 'kernel': ...               0.845238   \n",
       "21  {'C': 1, 'gamma': 0.01, 'degree': 3, 'kernel':...               0.837585   \n",
       "22  {'C': 1, 'gamma': 0.001, 'degree': 3, 'kernel'...               0.837585   \n",
       "23  {'C': 1, 'gamma': 0.0001, 'degree': 3, 'kernel...               0.837585   \n",
       "24  {'C': 10, 'gamma': 0.1, 'degree': 1, 'kernel':...               0.880102   \n",
       "25  {'C': 10, 'gamma': 0.01, 'degree': 1, 'kernel'...               0.880102   \n",
       "26  {'C': 10, 'gamma': 0.001, 'degree': 1, 'kernel...               0.850340   \n",
       "27  {'C': 10, 'gamma': 0.0001, 'degree': 1, 'kerne...               0.837585   \n",
       "28  {'C': 10, 'gamma': 0.1, 'degree': 2, 'kernel':...               0.768707   \n",
       "29  {'C': 10, 'gamma': 0.01, 'degree': 2, 'kernel'...               0.827381   \n",
       "..                                                ...                    ...   \n",
       "38  {'C': 100, 'gamma': 0.001, 'degree': 1, 'kerne...               0.880102   \n",
       "39  {'C': 100, 'gamma': 0.0001, 'degree': 1, 'kern...               0.850340   \n",
       "40  {'C': 100, 'gamma': 0.1, 'degree': 2, 'kernel'...               0.768707   \n",
       "41  {'C': 100, 'gamma': 0.01, 'degree': 2, 'kernel...               0.766156   \n",
       "42  {'C': 100, 'gamma': 0.001, 'degree': 2, 'kerne...               0.838435   \n",
       "43  {'C': 100, 'gamma': 0.0001, 'degree': 2, 'kern...               0.837585   \n",
       "44  {'C': 100, 'gamma': 0.1, 'degree': 3, 'kernel'...               0.845238   \n",
       "45  {'C': 100, 'gamma': 0.01, 'degree': 3, 'kernel...               0.844388   \n",
       "46  {'C': 100, 'gamma': 0.001, 'degree': 3, 'kerne...               0.837585   \n",
       "47  {'C': 100, 'gamma': 0.0001, 'degree': 3, 'kern...               0.837585   \n",
       "48          {'C': 0.1, 'gamma': 0.1, 'kernel': 'rbf'}               0.837585   \n",
       "49         {'C': 0.1, 'gamma': 0.01, 'kernel': 'rbf'}               0.837585   \n",
       "50        {'C': 0.1, 'gamma': 0.001, 'kernel': 'rbf'}               0.837585   \n",
       "51       {'C': 0.1, 'gamma': 0.0001, 'kernel': 'rbf'}               0.837585   \n",
       "52            {'C': 1, 'gamma': 0.1, 'kernel': 'rbf'}               0.837585   \n",
       "53           {'C': 1, 'gamma': 0.01, 'kernel': 'rbf'}               0.860544   \n",
       "54          {'C': 1, 'gamma': 0.001, 'kernel': 'rbf'}               0.837585   \n",
       "55         {'C': 1, 'gamma': 0.0001, 'kernel': 'rbf'}               0.837585   \n",
       "56           {'C': 10, 'gamma': 0.1, 'kernel': 'rbf'}               0.835034   \n",
       "57          {'C': 10, 'gamma': 0.01, 'kernel': 'rbf'}               0.855442   \n",
       "58         {'C': 10, 'gamma': 0.001, 'kernel': 'rbf'}               0.863946   \n",
       "59        {'C': 10, 'gamma': 0.0001, 'kernel': 'rbf'}               0.837585   \n",
       "60          {'C': 100, 'gamma': 0.1, 'kernel': 'rbf'}               0.835034   \n",
       "61         {'C': 100, 'gamma': 0.01, 'kernel': 'rbf'}               0.832483   \n",
       "62        {'C': 100, 'gamma': 0.001, 'kernel': 'rbf'}               0.874150   \n",
       "63       {'C': 100, 'gamma': 0.0001, 'kernel': 'rbf'}               0.870748   \n",
       "64                     {'C': 0.1, 'kernel': 'linear'}               0.880102   \n",
       "65                       {'C': 1, 'kernel': 'linear'}               0.880102   \n",
       "66                      {'C': 10, 'kernel': 'linear'}               0.878401   \n",
       "67                     {'C': 100, 'kernel': 'linear'}               0.877551   \n",
       "\n",
       "                                 cv_validation_scores  \n",
       "0   [0.847457627119, 0.851063829787, 0.85957446808...  \n",
       "1   [0.834745762712, 0.83829787234, 0.83829787234,...  \n",
       "2   [0.834745762712, 0.83829787234, 0.83829787234,...  \n",
       "3   [0.834745762712, 0.83829787234, 0.83829787234,...  \n",
       "4   [0.826271186441, 0.821276595745, 0.82978723404...  \n",
       "5   [0.834745762712, 0.83829787234, 0.83829787234,...  \n",
       "6   [0.834745762712, 0.83829787234, 0.83829787234,...  \n",
       "7   [0.834745762712, 0.83829787234, 0.83829787234,...  \n",
       "8   [0.830508474576, 0.829787234043, 0.86382978723...  \n",
       "9   [0.834745762712, 0.83829787234, 0.83829787234,...  \n",
       "10  [0.834745762712, 0.83829787234, 0.83829787234,...  \n",
       "11  [0.834745762712, 0.83829787234, 0.83829787234,...  \n",
       "12  [0.864406779661, 0.889361702128, 0.87234042553...  \n",
       "13  [0.847457627119, 0.851063829787, 0.85957446808...  \n",
       "14  [0.834745762712, 0.83829787234, 0.83829787234,...  \n",
       "15  [0.834745762712, 0.83829787234, 0.83829787234,...  \n",
       "16  [0.783898305085, 0.748936170213, 0.74893617021...  \n",
       "17  [0.834745762712, 0.83829787234, 0.83829787234,...  \n",
       "18  [0.834745762712, 0.83829787234, 0.83829787234,...  \n",
       "19  [0.834745762712, 0.83829787234, 0.83829787234,...  \n",
       "20  [0.830508474576, 0.829787234043, 0.87234042553...  \n",
       "21  [0.834745762712, 0.83829787234, 0.83829787234,...  \n",
       "22  [0.834745762712, 0.83829787234, 0.83829787234,...  \n",
       "23  [0.834745762712, 0.83829787234, 0.83829787234,...  \n",
       "24  [0.864406779661, 0.889361702128, 0.86808510638...  \n",
       "25  [0.864406779661, 0.889361702128, 0.87234042553...  \n",
       "26  [0.847457627119, 0.851063829787, 0.85957446808...  \n",
       "27  [0.834745762712, 0.83829787234, 0.83829787234,...  \n",
       "28  [0.766949152542, 0.753191489362, 0.75319148936...  \n",
       "29  [0.826271186441, 0.821276595745, 0.82978723404...  \n",
       "..                                                ...  \n",
       "38  [0.864406779661, 0.889361702128, 0.87234042553...  \n",
       "39  [0.847457627119, 0.851063829787, 0.85957446808...  \n",
       "40  [0.766949152542, 0.753191489362, 0.75319148936...  \n",
       "41  [0.783898305085, 0.748936170213, 0.74893617021...  \n",
       "42  [0.834745762712, 0.83829787234, 0.83829787234,...  \n",
       "43  [0.834745762712, 0.83829787234, 0.83829787234,...  \n",
       "44  [0.830508474576, 0.829787234043, 0.87234042553...  \n",
       "45  [0.830508474576, 0.829787234043, 0.86382978723...  \n",
       "46  [0.834745762712, 0.83829787234, 0.83829787234,...  \n",
       "47  [0.834745762712, 0.83829787234, 0.83829787234,...  \n",
       "48  [0.834745762712, 0.83829787234, 0.83829787234,...  \n",
       "49  [0.834745762712, 0.83829787234, 0.83829787234,...  \n",
       "50  [0.834745762712, 0.83829787234, 0.83829787234,...  \n",
       "51  [0.834745762712, 0.83829787234, 0.83829787234,...  \n",
       "52  [0.834745762712, 0.83829787234, 0.83829787234,...  \n",
       "53  [0.860169491525, 0.859574468085, 0.86382978723...  \n",
       "54  [0.834745762712, 0.83829787234, 0.83829787234,...  \n",
       "55  [0.834745762712, 0.83829787234, 0.83829787234,...  \n",
       "56  [0.830508474576, 0.834042553191, 0.83829787234...  \n",
       "57  [0.860169491525, 0.825531914894, 0.85957446808...  \n",
       "58  [0.851694915254, 0.859574468085, 0.86808510638...  \n",
       "59  [0.834745762712, 0.83829787234, 0.83829787234,...  \n",
       "60  [0.830508474576, 0.834042553191, 0.83829787234...  \n",
       "61  [0.834745762712, 0.791489361702, 0.84255319148...  \n",
       "62  [0.860169491525, 0.876595744681, 0.85531914893...  \n",
       "63  [0.851694915254, 0.863829787234, 0.87234042553...  \n",
       "64  [0.864406779661, 0.889361702128, 0.87234042553...  \n",
       "65  [0.864406779661, 0.889361702128, 0.86808510638...  \n",
       "66  [0.864406779661, 0.876595744681, 0.86808510638...  \n",
       "67  [0.864406779661, 0.876595744681, 0.86808510638...  \n",
       "\n",
       "[68 rows x 3 columns]"
      ]
     },
     "execution_count": 10,
     "metadata": {},
     "output_type": "execute_result"
    }
   ],
   "source": [
    "pd.DataFrame(clf.grid_scores_)"
   ]
  },
  {
   "cell_type": "markdown",
   "metadata": {},
   "source": [
    "> Note: ('C': 1, 'kernel': 'linear') and  ('C': 1, 'degree': 1, 'gamma': 0.1, 'kernel': 'poly')\n",
    "correspond to a 0.880102 score"
   ]
  },
  {
   "cell_type": "code",
   "execution_count": 11,
   "metadata": {
    "collapsed": false
   },
   "outputs": [
    {
     "name": "stdout",
     "output_type": "stream",
     "text": [
      "Kernel = Poly, C = 0.1, degree = 1, gamma = 0.1\n",
      "Training Accuracy:  0.863095238095\n",
      "Test Accuracy:  0.867346938776\n"
     ]
    }
   ],
   "source": [
    "# C = 0.1, degree  = 1, gamma = 0.1, kernel = poly\n",
    "svmP = svm.SVC(C = 0.1, degree = 1, gamma = 0.1,kernel = 'poly');\n",
    "svmP.fit(x_train,y_train);\n",
    "svmP.predict(x_test)\n",
    "print (\"Kernel = Poly, C = 0.1, degree = 1, gamma = 0.1\")\n",
    "print(\"Training Accuracy: \", svmP.score(x_train, y_train))\n",
    "print(\"Test Accuracy: \", svmP.score(x_test,y_test))"
   ]
  },
  {
   "cell_type": "code",
   "execution_count": 12,
   "metadata": {
    "collapsed": false
   },
   "outputs": [
    {
     "name": "stdout",
     "output_type": "stream",
     "text": [
      "Kernel = Linear, C = 1\n",
      "Training Accuracy:  0.893707482993\n",
      "Test Accuracy:  0.887755102041\n"
     ]
    }
   ],
   "source": [
    "# C = 1,  kernel = Linear\n",
    "svmL = svm.SVC(C = 1.0, kernel =  'linear');\n",
    "svmL.fit(x_train,y_train);\n",
    "svmL.predict(x_test)\n",
    "print (\"Kernel = Linear, C = 1\")\n",
    "print(\"Training Accuracy: \", svmL.score(x_train, y_train))\n",
    "print(\"Test Accuracy: \", svmL.score(x_test,y_test))"
   ]
  },
  {
   "cell_type": "markdown",
   "metadata": {},
   "source": [
    "> Linear SVC has a higher test score"
   ]
  },
  {
   "cell_type": "code",
   "execution_count": 39,
   "metadata": {
    "collapsed": false
   },
   "outputs": [
    {
     "data": {
      "image/png": "[encoded data removed]",
      "text/plain": [
       "<matplotlib.figure.Figure at 0x10dfabef0>"
      ]
     },
     "metadata": {},
     "output_type": "display_data"
    }
   ],
   "source": [
    "plt.figure(figsize = (10,15))\n",
    "def f_importances(coef, names):\n",
    "    imp = coef[0]\n",
    "    imp,names = zip(*sorted(zip(imp,names)))\n",
    "    n = len(names)\n",
    "    plt.barh(range(n), imp, align='center', alpha = 0.6)\n",
    "    plt.yticks(range(len(names)), names)\n",
    "    plt.show()\n",
    "\n",
    "features_names = train_set.drop(['Attrition', 'Over18'], axis=1).columns.values\n",
    "svmL.fit(x_train, y_train)\n",
    "f_importances(svmL.coef_, features_names)"
   ]
  },
  {
   "cell_type": "code",
   "execution_count": 31,
   "metadata": {
    "collapsed": false,
    "scrolled": true
   },
   "outputs": [],
   "source": [
    "d = { 'feature': train_set.drop(['Attrition', 'Over18'], axis=1).columns.values, 'coeff': svmL.coef_[0]}\n",
    "svc_df = pd.DataFrame(data=d)"
   ]
  },
  {
   "cell_type": "code",
   "execution_count": 32,
   "metadata": {
    "collapsed": false,
    "scrolled": true
   },
   "outputs": [
    {
     "data": {
      "text/html": [
       "<div>\n",
       "<style>\n",
       "    .dataframe thead tr:only-child th {\n",
       "        text-align: right;\n",
       "    }\n",
       "\n",
       "    .dataframe thead th {\n",
       "        text-align: left;\n",
       "    }\n",
       "\n",
       "    .dataframe tbody tr th {\n",
       "        vertical-align: top;\n",
       "    }\n",
       "</style>\n",
       "<table border=\"1\" class=\"dataframe\">\n",
       "  <thead>\n",
       "    <tr style=\"text-align: right;\">\n",
       "      <th></th>\n",
       "      <th>coeff</th>\n",
       "      <th>feature</th>\n",
       "    </tr>\n",
       "  </thead>\n",
       "  <tbody>\n",
       "    <tr>\n",
       "      <th>0</th>\n",
       "      <td>-0.351526</td>\n",
       "      <td>TotalWorkingYears</td>\n",
       "    </tr>\n",
       "    <tr>\n",
       "      <th>1</th>\n",
       "      <td>-0.319703</td>\n",
       "      <td>JobSatisfaction</td>\n",
       "    </tr>\n",
       "    <tr>\n",
       "      <th>2</th>\n",
       "      <td>-0.286812</td>\n",
       "      <td>EnvironmentSatisfaction</td>\n",
       "    </tr>\n",
       "    <tr>\n",
       "      <th>3</th>\n",
       "      <td>-0.265566</td>\n",
       "      <td>JobInvolvement</td>\n",
       "    </tr>\n",
       "    <tr>\n",
       "      <th>4</th>\n",
       "      <td>-0.257854</td>\n",
       "      <td>YearsWithCurrManager</td>\n",
       "    </tr>\n",
       "    <tr>\n",
       "      <th>5</th>\n",
       "      <td>-0.248359</td>\n",
       "      <td>Age</td>\n",
       "    </tr>\n",
       "    <tr>\n",
       "      <th>6</th>\n",
       "      <td>-0.199992</td>\n",
       "      <td>YearsInCurrentRole</td>\n",
       "    </tr>\n",
       "    <tr>\n",
       "      <th>7</th>\n",
       "      <td>-0.175154</td>\n",
       "      <td>JobLevel</td>\n",
       "    </tr>\n",
       "    <tr>\n",
       "      <th>8</th>\n",
       "      <td>-0.164230</td>\n",
       "      <td>TrainingTimesLastYear</td>\n",
       "    </tr>\n",
       "    <tr>\n",
       "      <th>9</th>\n",
       "      <td>-0.156606</td>\n",
       "      <td>RelationshipSatisfaction</td>\n",
       "    </tr>\n",
       "    <tr>\n",
       "      <th>10</th>\n",
       "      <td>-0.153547</td>\n",
       "      <td>StockOptionLevel</td>\n",
       "    </tr>\n",
       "    <tr>\n",
       "      <th>11</th>\n",
       "      <td>-0.139894</td>\n",
       "      <td>WorkLifeBalance</td>\n",
       "    </tr>\n",
       "    <tr>\n",
       "      <th>12</th>\n",
       "      <td>-0.125488</td>\n",
       "      <td>BusinessTravel_Non-Travel</td>\n",
       "    </tr>\n",
       "    <tr>\n",
       "      <th>13</th>\n",
       "      <td>-0.125058</td>\n",
       "      <td>JobRole_Manufacturing Director</td>\n",
       "    </tr>\n",
       "    <tr>\n",
       "      <th>14</th>\n",
       "      <td>-0.114975</td>\n",
       "      <td>JobRole_Research Director</td>\n",
       "    </tr>\n",
       "    <tr>\n",
       "      <th>15</th>\n",
       "      <td>-0.105151</td>\n",
       "      <td>JobRole_Research Scientist</td>\n",
       "    </tr>\n",
       "    <tr>\n",
       "      <th>16</th>\n",
       "      <td>-0.092812</td>\n",
       "      <td>MaritalStatus_Married</td>\n",
       "    </tr>\n",
       "    <tr>\n",
       "      <th>17</th>\n",
       "      <td>-0.075804</td>\n",
       "      <td>EducationField_Medical</td>\n",
       "    </tr>\n",
       "    <tr>\n",
       "      <th>18</th>\n",
       "      <td>-0.064579</td>\n",
       "      <td>PercentSalaryHike</td>\n",
       "    </tr>\n",
       "    <tr>\n",
       "      <th>19</th>\n",
       "      <td>-0.063323</td>\n",
       "      <td>BusinessTravel_Travel_Rarely</td>\n",
       "    </tr>\n",
       "    <tr>\n",
       "      <th>20</th>\n",
       "      <td>-0.062190</td>\n",
       "      <td>EmployeeNumber</td>\n",
       "    </tr>\n",
       "    <tr>\n",
       "      <th>21</th>\n",
       "      <td>-0.050588</td>\n",
       "      <td>MaritalStatus_Divorced</td>\n",
       "    </tr>\n",
       "    <tr>\n",
       "      <th>22</th>\n",
       "      <td>-0.044363</td>\n",
       "      <td>JobRole_Healthcare Representative</td>\n",
       "    </tr>\n",
       "    <tr>\n",
       "      <th>23</th>\n",
       "      <td>-0.043126</td>\n",
       "      <td>DailyRate</td>\n",
       "    </tr>\n",
       "    <tr>\n",
       "      <th>24</th>\n",
       "      <td>-0.027093</td>\n",
       "      <td>Department_Research &amp; Development</td>\n",
       "    </tr>\n",
       "    <tr>\n",
       "      <th>25</th>\n",
       "      <td>-0.024998</td>\n",
       "      <td>EducationField_Other</td>\n",
       "    </tr>\n",
       "    <tr>\n",
       "      <th>26</th>\n",
       "      <td>0.000000</td>\n",
       "      <td>EmployeeCount</td>\n",
       "    </tr>\n",
       "    <tr>\n",
       "      <th>27</th>\n",
       "      <td>0.000000</td>\n",
       "      <td>StandardHours</td>\n",
       "    </tr>\n",
       "    <tr>\n",
       "      <th>28</th>\n",
       "      <td>0.001714</td>\n",
       "      <td>EducationField_Life Sciences</td>\n",
       "    </tr>\n",
       "    <tr>\n",
       "      <th>29</th>\n",
       "      <td>0.002887</td>\n",
       "      <td>MonthlyIncome</td>\n",
       "    </tr>\n",
       "    <tr>\n",
       "      <th>30</th>\n",
       "      <td>0.005813</td>\n",
       "      <td>MonthlyRate</td>\n",
       "    </tr>\n",
       "    <tr>\n",
       "      <th>31</th>\n",
       "      <td>0.018271</td>\n",
       "      <td>Department_Human Resources</td>\n",
       "    </tr>\n",
       "    <tr>\n",
       "      <th>32</th>\n",
       "      <td>0.019712</td>\n",
       "      <td>Department_Sales</td>\n",
       "    </tr>\n",
       "    <tr>\n",
       "      <th>33</th>\n",
       "      <td>0.020328</td>\n",
       "      <td>JobRole_Human Resources</td>\n",
       "    </tr>\n",
       "    <tr>\n",
       "      <th>34</th>\n",
       "      <td>0.021640</td>\n",
       "      <td>EducationField_Marketing</td>\n",
       "    </tr>\n",
       "    <tr>\n",
       "      <th>35</th>\n",
       "      <td>0.027269</td>\n",
       "      <td>Education</td>\n",
       "    </tr>\n",
       "    <tr>\n",
       "      <th>36</th>\n",
       "      <td>0.042560</td>\n",
       "      <td>EducationField_Human Resources</td>\n",
       "    </tr>\n",
       "    <tr>\n",
       "      <th>37</th>\n",
       "      <td>0.043600</td>\n",
       "      <td>PerformanceRating</td>\n",
       "    </tr>\n",
       "    <tr>\n",
       "      <th>38</th>\n",
       "      <td>0.053687</td>\n",
       "      <td>JobRole_Sales Executive</td>\n",
       "    </tr>\n",
       "    <tr>\n",
       "      <th>39</th>\n",
       "      <td>0.054435</td>\n",
       "      <td>HourlyRate</td>\n",
       "    </tr>\n",
       "    <tr>\n",
       "      <th>40</th>\n",
       "      <td>0.067898</td>\n",
       "      <td>JobRole_Manager</td>\n",
       "    </tr>\n",
       "    <tr>\n",
       "      <th>41</th>\n",
       "      <td>0.073269</td>\n",
       "      <td>Gender</td>\n",
       "    </tr>\n",
       "    <tr>\n",
       "      <th>42</th>\n",
       "      <td>0.097506</td>\n",
       "      <td>EducationField_Technical Degree</td>\n",
       "    </tr>\n",
       "    <tr>\n",
       "      <th>43</th>\n",
       "      <td>0.110003</td>\n",
       "      <td>JobRole_Laboratory Technician</td>\n",
       "    </tr>\n",
       "    <tr>\n",
       "      <th>44</th>\n",
       "      <td>0.143865</td>\n",
       "      <td>MaritalStatus_Single</td>\n",
       "    </tr>\n",
       "    <tr>\n",
       "      <th>45</th>\n",
       "      <td>0.144565</td>\n",
       "      <td>JobRole_Sales Representative</td>\n",
       "    </tr>\n",
       "    <tr>\n",
       "      <th>46</th>\n",
       "      <td>0.168204</td>\n",
       "      <td>BusinessTravel_Travel_Frequently</td>\n",
       "    </tr>\n",
       "    <tr>\n",
       "      <th>47</th>\n",
       "      <td>0.180497</td>\n",
       "      <td>DistanceFromHome</td>\n",
       "    </tr>\n",
       "    <tr>\n",
       "      <th>48</th>\n",
       "      <td>0.188071</td>\n",
       "      <td>YearsAtCompany</td>\n",
       "    </tr>\n",
       "    <tr>\n",
       "      <th>49</th>\n",
       "      <td>0.292027</td>\n",
       "      <td>NumCompaniesWorked</td>\n",
       "    </tr>\n",
       "    <tr>\n",
       "      <th>50</th>\n",
       "      <td>0.314471</td>\n",
       "      <td>YearsSinceLastPromotion</td>\n",
       "    </tr>\n",
       "    <tr>\n",
       "      <th>51</th>\n",
       "      <td>0.550226</td>\n",
       "      <td>OverTime</td>\n",
       "    </tr>\n",
       "  </tbody>\n",
       "</table>\n",
       "</div>"
      ],
      "text/plain": [
       "       coeff                            feature\n",
       "0  -0.351526                  TotalWorkingYears\n",
       "1  -0.319703                    JobSatisfaction\n",
       "2  -0.286812            EnvironmentSatisfaction\n",
       "3  -0.265566                     JobInvolvement\n",
       "4  -0.257854               YearsWithCurrManager\n",
       "5  -0.248359                                Age\n",
       "6  -0.199992                 YearsInCurrentRole\n",
       "7  -0.175154                           JobLevel\n",
       "8  -0.164230              TrainingTimesLastYear\n",
       "9  -0.156606           RelationshipSatisfaction\n",
       "10 -0.153547                   StockOptionLevel\n",
       "11 -0.139894                    WorkLifeBalance\n",
       "12 -0.125488          BusinessTravel_Non-Travel\n",
       "13 -0.125058     JobRole_Manufacturing Director\n",
       "14 -0.114975          JobRole_Research Director\n",
       "15 -0.105151         JobRole_Research Scientist\n",
       "16 -0.092812              MaritalStatus_Married\n",
       "17 -0.075804             EducationField_Medical\n",
       "18 -0.064579                  PercentSalaryHike\n",
       "19 -0.063323       BusinessTravel_Travel_Rarely\n",
       "20 -0.062190                     EmployeeNumber\n",
       "21 -0.050588             MaritalStatus_Divorced\n",
       "22 -0.044363  JobRole_Healthcare Representative\n",
       "23 -0.043126                          DailyRate\n",
       "24 -0.027093  Department_Research & Development\n",
       "25 -0.024998               EducationField_Other\n",
       "26  0.000000                      EmployeeCount\n",
       "27  0.000000                      StandardHours\n",
       "28  0.001714       EducationField_Life Sciences\n",
       "29  0.002887                      MonthlyIncome\n",
       "30  0.005813                        MonthlyRate\n",
       "31  0.018271         Department_Human Resources\n",
       "32  0.019712                   Department_Sales\n",
       "33  0.020328            JobRole_Human Resources\n",
       "34  0.021640           EducationField_Marketing\n",
       "35  0.027269                          Education\n",
       "36  0.042560     EducationField_Human Resources\n",
       "37  0.043600                  PerformanceRating\n",
       "38  0.053687            JobRole_Sales Executive\n",
       "39  0.054435                         HourlyRate\n",
       "40  0.067898                    JobRole_Manager\n",
       "41  0.073269                             Gender\n",
       "42  0.097506    EducationField_Technical Degree\n",
       "43  0.110003      JobRole_Laboratory Technician\n",
       "44  0.143865               MaritalStatus_Single\n",
       "45  0.144565       JobRole_Sales Representative\n",
       "46  0.168204   BusinessTravel_Travel_Frequently\n",
       "47  0.180497                   DistanceFromHome\n",
       "48  0.188071                     YearsAtCompany\n",
       "49  0.292027                 NumCompaniesWorked\n",
       "50  0.314471            YearsSinceLastPromotion\n",
       "51  0.550226                           OverTime"
      ]
     },
     "execution_count": 32,
     "metadata": {},
     "output_type": "execute_result"
    }
   ],
   "source": [
    "svc_df = svc_df.sort_values('coeff')\n",
    "n = len(svc_df);\n",
    "svc_df = svc_df.set_index(np.arange(0,n))\n",
    "svc_df"
   ]
  },
  {
   "cell_type": "markdown",
   "metadata": {},
   "source": [
    "<hr>"
   ]
  },
  {
   "cell_type": "markdown",
   "metadata": {},
   "source": [
    "#### Top 5 Most Negatively Correlated Features"
   ]
  },
  {
   "cell_type": "code",
   "execution_count": 25,
   "metadata": {
    "collapsed": false
   },
   "outputs": [
    {
     "name": "stdout",
     "output_type": "stream",
     "text": [
      "TotalWorkingYears -0.351526447096\n",
      "JobSatisfaction -0.319703230228\n",
      "EnvironmentSatisfaction -0.286811766941\n",
      "JobInvolvement -0.265565714901\n",
      "YearsWithCurrManager -0.257854190669\n"
     ]
    }
   ],
   "source": [
    "top10c = [];\n",
    "top10f = [];\n",
    "for i in range(0,5):\n",
    "    top10c.append(svc_df.iloc[i]['coeff']);\n",
    "    top10f.append(svc_df.iloc[i]['feature']);\n",
    "    print(svc_df.iloc[i]['feature'], svc_df.iloc[i]['coeff'])"
   ]
  },
  {
   "cell_type": "markdown",
   "metadata": {},
   "source": [
    "#### Top 5 Most Positively Correlated Features"
   ]
  },
  {
   "cell_type": "code",
   "execution_count": 26,
   "metadata": {
    "collapsed": false
   },
   "outputs": [
    {
     "name": "stdout",
     "output_type": "stream",
     "text": [
      "OverTime 0.550226224759\n",
      "YearsSinceLastPromotion 0.314471045382\n",
      "NumCompaniesWorked 0.292026909345\n",
      "YearsAtCompany 0.188071487952\n",
      "DistanceFromHome 0.180496573323\n"
     ]
    }
   ],
   "source": [
    "for i in range(n-1,n-6, -1):\n",
    "    top10c.append(svc_df.iloc[i]['coeff']);\n",
    "    top10f.append(svc_df.iloc[i]['feature']);\n",
    "    print(svc_df.iloc[i]['feature'], svc_df.iloc[i]['coeff'])"
   ]
  },
  {
   "cell_type": "markdown",
   "metadata": {},
   "source": [
    "<hr>"
   ]
  },
  {
   "cell_type": "code",
   "execution_count": 42,
   "metadata": {
    "collapsed": true
   },
   "outputs": [],
   "source": [
    "def f_importances2(coef, names):\n",
    "    imp = coef\n",
    "    imp,names = zip(*sorted(zip(imp,names)))\n",
    "    n = len(names)\n",
    "    plt.barh(range(n), imp, align='center', alpha = 1, color = 'midnightblue')\n",
    "    plt.yticks(range(len(names)), names)\n",
    "    ax = plt.gca()\n",
    "    ax.spines['top'].set_visible(False)\n",
    "    ax.spines['right'].set_visible(False)\n",
    "    ax.spines['left'].set_visible(False)"
   ]
  },
  {
   "cell_type": "code",
   "execution_count": 43,
   "metadata": {
    "collapsed": false
   },
   "outputs": [
    {
     "data": {
      "image/png": "[encoded data removed]",
      "text/plain": [
       "<matplotlib.figure.Figure at 0x10dec8e80>"
      ]
     },
     "metadata": {},
     "output_type": "display_data"
    }
   ],
   "source": [
    "t = { 'feature': top10f, 'coeff': top10c}\n",
    "top10 = pd.DataFrame(data=t)\n",
    "\n",
    "f_importances2(top10['coeff'].values, np.asarray(top10['feature'].values))\n",
    "plt.xlim(-0.4, 0.6)\n",
    "plt.title(\"Top 10 Factors Contributing to Attrition\")\n",
    "plt.show()"
   ]
  },
  {
   "cell_type": "markdown",
   "metadata": {},
   "source": [
    "<hr>"
   ]
  },
  {
   "cell_type": "markdown",
   "metadata": {},
   "source": [
    "### Departments"
   ]
  },
  {
   "cell_type": "code",
   "execution_count": 45,
   "metadata": {
    "collapsed": false
   },
   "outputs": [
    {
     "data": {
      "text/html": [
       "<div>\n",
       "<style>\n",
       "    .dataframe thead tr:only-child th {\n",
       "        text-align: right;\n",
       "    }\n",
       "\n",
       "    .dataframe thead th {\n",
       "        text-align: left;\n",
       "    }\n",
       "\n",
       "    .dataframe tbody tr th {\n",
       "        vertical-align: top;\n",
       "    }\n",
       "</style>\n",
       "<table border=\"1\" class=\"dataframe\">\n",
       "  <thead>\n",
       "    <tr style=\"text-align: right;\">\n",
       "      <th></th>\n",
       "      <th>coeff</th>\n",
       "      <th>feature</th>\n",
       "    </tr>\n",
       "  </thead>\n",
       "  <tbody>\n",
       "    <tr>\n",
       "      <th>24</th>\n",
       "      <td>-0.027093</td>\n",
       "      <td>Department_Research &amp; Development</td>\n",
       "    </tr>\n",
       "    <tr>\n",
       "      <th>31</th>\n",
       "      <td>0.018271</td>\n",
       "      <td>Department_Human Resources</td>\n",
       "    </tr>\n",
       "    <tr>\n",
       "      <th>32</th>\n",
       "      <td>0.019712</td>\n",
       "      <td>Department_Sales</td>\n",
       "    </tr>\n",
       "  </tbody>\n",
       "</table>\n",
       "</div>"
      ],
      "text/plain": [
       "       coeff                            feature\n",
       "24 -0.027093  Department_Research & Development\n",
       "31  0.018271         Department_Human Resources\n",
       "32  0.019712                   Department_Sales"
      ]
     },
     "execution_count": 45,
     "metadata": {},
     "output_type": "execute_result"
    }
   ],
   "source": [
    "dept = svc_df[svc_df['feature'].isin(['Department_Research & Development','Department_Human Resources', 'Department_Sales'])]\n",
    "dept"
   ]
  },
  {
   "cell_type": "code",
   "execution_count": 47,
   "metadata": {
    "collapsed": false
   },
   "outputs": [
    {
     "data": {
      "image/png": "[encoded data removed]",
      "text/plain": [
       "<matplotlib.figure.Figure at 0x10e691e48>"
      ]
     },
     "metadata": {},
     "output_type": "display_data"
    }
   ],
   "source": [
    "f_importances2(dept['coeff'].values, dept['feature'].values)\n",
    "plt.xlim(-0.4, 0.6)\n",
    "plt.title(\"Satisfaction\")\n",
    "plt.show()"
   ]
  },
  {
   "cell_type": "markdown",
   "metadata": {},
   "source": [
    "### Ordinal Values"
   ]
  },
  {
   "cell_type": "code",
   "execution_count": 19,
   "metadata": {
    "collapsed": false
   },
   "outputs": [
    {
     "data": {
      "text/html": [
       "<div>\n",
       "<style>\n",
       "    .dataframe thead tr:only-child th {\n",
       "        text-align: right;\n",
       "    }\n",
       "\n",
       "    .dataframe thead th {\n",
       "        text-align: left;\n",
       "    }\n",
       "\n",
       "    .dataframe tbody tr th {\n",
       "        vertical-align: top;\n",
       "    }\n",
       "</style>\n",
       "<table border=\"1\" class=\"dataframe\">\n",
       "  <thead>\n",
       "    <tr style=\"text-align: right;\">\n",
       "      <th></th>\n",
       "      <th>coeff</th>\n",
       "      <th>feature</th>\n",
       "    </tr>\n",
       "  </thead>\n",
       "  <tbody>\n",
       "    <tr>\n",
       "      <th>1</th>\n",
       "      <td>-0.319703</td>\n",
       "      <td>JobSatisfaction</td>\n",
       "    </tr>\n",
       "    <tr>\n",
       "      <th>2</th>\n",
       "      <td>-0.286812</td>\n",
       "      <td>EnvironmentSatisfaction</td>\n",
       "    </tr>\n",
       "    <tr>\n",
       "      <th>3</th>\n",
       "      <td>-0.265566</td>\n",
       "      <td>JobInvolvement</td>\n",
       "    </tr>\n",
       "    <tr>\n",
       "      <th>9</th>\n",
       "      <td>-0.156606</td>\n",
       "      <td>RelationshipSatisfaction</td>\n",
       "    </tr>\n",
       "    <tr>\n",
       "      <th>11</th>\n",
       "      <td>-0.139894</td>\n",
       "      <td>WorkLifeBalance</td>\n",
       "    </tr>\n",
       "  </tbody>\n",
       "</table>\n",
       "</div>"
      ],
      "text/plain": [
       "       coeff                   feature\n",
       "1  -0.319703           JobSatisfaction\n",
       "2  -0.286812   EnvironmentSatisfaction\n",
       "3  -0.265566            JobInvolvement\n",
       "9  -0.156606  RelationshipSatisfaction\n",
       "11 -0.139894           WorkLifeBalance"
      ]
     },
     "execution_count": 19,
     "metadata": {},
     "output_type": "execute_result"
    }
   ],
   "source": [
    "ordinal = svc_df[svc_df['feature'].isin(['EnvironmentSatisfaction','RelationshipSatisfaction',\n",
    "'WorkLifeBalance', 'JobInvolvement', 'JobSatisfaction'])]\n",
    "ordinal"
   ]
  },
  {
   "cell_type": "markdown",
   "metadata": {},
   "source": [
    "### Financial "
   ]
  },
  {
   "cell_type": "code",
   "execution_count": 48,
   "metadata": {
    "collapsed": false
   },
   "outputs": [
    {
     "data": {
      "text/html": [
       "<div>\n",
       "<style>\n",
       "    .dataframe thead tr:only-child th {\n",
       "        text-align: right;\n",
       "    }\n",
       "\n",
       "    .dataframe thead th {\n",
       "        text-align: left;\n",
       "    }\n",
       "\n",
       "    .dataframe tbody tr th {\n",
       "        vertical-align: top;\n",
       "    }\n",
       "</style>\n",
       "<table border=\"1\" class=\"dataframe\">\n",
       "  <thead>\n",
       "    <tr style=\"text-align: right;\">\n",
       "      <th></th>\n",
       "      <th>coeff</th>\n",
       "      <th>feature</th>\n",
       "    </tr>\n",
       "  </thead>\n",
       "  <tbody>\n",
       "    <tr>\n",
       "      <th>10</th>\n",
       "      <td>-0.153547</td>\n",
       "      <td>StockOptionLevel</td>\n",
       "    </tr>\n",
       "    <tr>\n",
       "      <th>18</th>\n",
       "      <td>-0.064579</td>\n",
       "      <td>PercentSalaryHike</td>\n",
       "    </tr>\n",
       "    <tr>\n",
       "      <th>23</th>\n",
       "      <td>-0.043126</td>\n",
       "      <td>DailyRate</td>\n",
       "    </tr>\n",
       "    <tr>\n",
       "      <th>29</th>\n",
       "      <td>0.002887</td>\n",
       "      <td>MonthlyIncome</td>\n",
       "    </tr>\n",
       "    <tr>\n",
       "      <th>30</th>\n",
       "      <td>0.005813</td>\n",
       "      <td>MonthlyRate</td>\n",
       "    </tr>\n",
       "    <tr>\n",
       "      <th>39</th>\n",
       "      <td>0.054435</td>\n",
       "      <td>HourlyRate</td>\n",
       "    </tr>\n",
       "    <tr>\n",
       "      <th>51</th>\n",
       "      <td>0.550226</td>\n",
       "      <td>OverTime</td>\n",
       "    </tr>\n",
       "  </tbody>\n",
       "</table>\n",
       "</div>"
      ],
      "text/plain": [
       "       coeff            feature\n",
       "10 -0.153547   StockOptionLevel\n",
       "18 -0.064579  PercentSalaryHike\n",
       "23 -0.043126          DailyRate\n",
       "29  0.002887      MonthlyIncome\n",
       "30  0.005813        MonthlyRate\n",
       "39  0.054435         HourlyRate\n",
       "51  0.550226           OverTime"
      ]
     },
     "execution_count": 48,
     "metadata": {},
     "output_type": "execute_result"
    }
   ],
   "source": [
    "financial = svc_df[svc_df['feature'].isin(['DailyRate','HourlyRate',\n",
    "'MonthlyIncome', 'MonthlyRate', 'PercentSalaryHike', 'StockOptionLevel', \"OverTime\"])]\n",
    "financial"
   ]
  },
  {
   "cell_type": "code",
   "execution_count": 49,
   "metadata": {
    "collapsed": false
   },
   "outputs": [
    {
     "data": {
      "image/png": "[encoded data removed]",
      "text/plain": [
       "<matplotlib.figure.Figure at 0x10e6e2fd0>"
      ]
     },
     "metadata": {},
     "output_type": "display_data"
    }
   ],
   "source": [
    "plt.figure(figsize = (10,5),frameon=False)\n",
    "f_importances2(financial['coeff'].values, financial['feature'].values)\n",
    "plt.xlim(-0.4, 0.6)\n",
    "plt.title(\"Financial\")\n",
    "plt.show()"
   ]
  },
  {
   "cell_type": "markdown",
   "metadata": {},
   "source": [
    "### Demographic"
   ]
  },
  {
   "cell_type": "code",
   "execution_count": 50,
   "metadata": {
    "collapsed": false
   },
   "outputs": [
    {
     "data": {
      "text/html": [
       "<div>\n",
       "<style>\n",
       "    .dataframe thead tr:only-child th {\n",
       "        text-align: right;\n",
       "    }\n",
       "\n",
       "    .dataframe thead th {\n",
       "        text-align: left;\n",
       "    }\n",
       "\n",
       "    .dataframe tbody tr th {\n",
       "        vertical-align: top;\n",
       "    }\n",
       "</style>\n",
       "<table border=\"1\" class=\"dataframe\">\n",
       "  <thead>\n",
       "    <tr style=\"text-align: right;\">\n",
       "      <th></th>\n",
       "      <th>coeff</th>\n",
       "      <th>feature</th>\n",
       "    </tr>\n",
       "  </thead>\n",
       "  <tbody>\n",
       "    <tr>\n",
       "      <th>0</th>\n",
       "      <td>-0.351526</td>\n",
       "      <td>TotalWorkingYears</td>\n",
       "    </tr>\n",
       "    <tr>\n",
       "      <th>5</th>\n",
       "      <td>-0.248359</td>\n",
       "      <td>Age</td>\n",
       "    </tr>\n",
       "    <tr>\n",
       "      <th>16</th>\n",
       "      <td>-0.092812</td>\n",
       "      <td>MaritalStatus_Married</td>\n",
       "    </tr>\n",
       "    <tr>\n",
       "      <th>21</th>\n",
       "      <td>-0.050588</td>\n",
       "      <td>MaritalStatus_Divorced</td>\n",
       "    </tr>\n",
       "    <tr>\n",
       "      <th>41</th>\n",
       "      <td>0.073269</td>\n",
       "      <td>Gender</td>\n",
       "    </tr>\n",
       "    <tr>\n",
       "      <th>44</th>\n",
       "      <td>0.143865</td>\n",
       "      <td>MaritalStatus_Single</td>\n",
       "    </tr>\n",
       "    <tr>\n",
       "      <th>47</th>\n",
       "      <td>0.180497</td>\n",
       "      <td>DistanceFromHome</td>\n",
       "    </tr>\n",
       "  </tbody>\n",
       "</table>\n",
       "</div>"
      ],
      "text/plain": [
       "       coeff                 feature\n",
       "0  -0.351526       TotalWorkingYears\n",
       "5  -0.248359                     Age\n",
       "16 -0.092812   MaritalStatus_Married\n",
       "21 -0.050588  MaritalStatus_Divorced\n",
       "41  0.073269                  Gender\n",
       "44  0.143865    MaritalStatus_Single\n",
       "47  0.180497        DistanceFromHome"
      ]
     },
     "execution_count": 50,
     "metadata": {},
     "output_type": "execute_result"
    }
   ],
   "source": [
    "demo = svc_df[svc_df['feature'].isin(['Age','Gender', 'TotalWorkingYears','DistanceFromHome','MaritalStatus_Single', 'MaritalStatus_Married',\n",
    "'MaritalStatus_Divorced'\n",
    " ])]\n",
    "demo"
   ]
  },
  {
   "cell_type": "code",
   "execution_count": 51,
   "metadata": {
    "collapsed": false
   },
   "outputs": [
    {
     "data": {
      "image/png": "[encoded data removed]",
      "text/plain": [
       "<matplotlib.figure.Figure at 0x10e6911d0>"
      ]
     },
     "metadata": {},
     "output_type": "display_data"
    }
   ],
   "source": [
    "plt.figure(figsize = (10,5),frameon=False)\n",
    "f_importances2(demo['coeff'].values, demo['feature'].values)\n",
    "plt.xlim(-0.4, 0.6)\n",
    "plt.title(\"Demographic\")\n",
    "plt.show()"
   ]
  },
  {
   "cell_type": "code",
   "execution_count": 177,
   "metadata": {
    "collapsed": false
   },
   "outputs": [],
   "source": [
    "from sklearn.decomposition import PCA\n",
    "\n",
    "pos_x = train_set[['OverTime',\n",
    "'YearsSinceLastPromotion', 'JobSatisfaction']]\n",
    "pos_y  = train_set['Attrition']\n",
    "\n",
    "scalerTrain = StandardScaler()\n",
    "scalerTrain.fit(pos_x)\n",
    "econ_train = scalerTrain.transform(pos_x) #normalize\n",
    "\n",
    "pca = PCA(n_components=3)\n",
    "pca_result = pca.fit_transform(pos_x)"
   ]
  },
  {
   "cell_type": "code",
   "execution_count": 178,
   "metadata": {
    "collapsed": false
   },
   "outputs": [
    {
     "data": {
      "text/plain": [
       "<mpl_toolkits.mplot3d.art3d.Path3DCollection at 0x10f487828>"
      ]
     },
     "execution_count": 178,
     "metadata": {},
     "output_type": "execute_result"
    },
    {
     "data": {
      "image/png": "[encoded data removed]",
      "text/plain": [
       "<matplotlib.figure.Figure at 0x10f465470>"
      ]
     },
     "metadata": {},
     "output_type": "display_data"
    }
   ],
   "source": [
    "from mpl_toolkits.mplot3d import Axes3D\n",
    "\n",
    "fig = plt.figure()\n",
    "ax = fig.add_subplot(111, projection='3d')\n",
    "ax.view_init(elev=None, azim=None)\n",
    "\n",
    "colors = ['green','darkorange']\n",
    "cl = [];\n",
    "for i in range(0,len(y_train)):\n",
    "    if y_train[i] == 0:\n",
    "        c = 'blue'\n",
    "    else:\n",
    "        c = 'orange'\n",
    "    cl.append(c)\n",
    "\n",
    "x = pca_result[:, 0].tolist();\n",
    "y = pca_result[:, 1].tolist();\n",
    "z = pca_result[:, 2].tolist();\n",
    "\n",
    "ax.get_proj = lambda: np.dot(Axes3D.get_proj(ax), np.diag([1, 1, 1, 1]))\n",
    "ax.scatter(z,y,x, s = 25, c=cl, depthshade=True, alpha = 0.8)"
   ]
  },
  {
   "cell_type": "code",
   "execution_count": 14,
   "metadata": {
    "collapsed": true
   },
   "outputs": [],
   "source": [
    "pos_x = train_set[['TotalWorkingYears', 'JobSatisfaction', 'EnvironmentSatisfaction']]\n",
    "pos_y  = train_set['Attrition']\n",
    "\n",
    "\n",
    "pca = PCA(n_components=3)\n",
    "pca_result = pca.fit_transform(pos_x)"
   ]
  },
  {
   "cell_type": "code",
   "execution_count": 15,
   "metadata": {
    "collapsed": false
   },
   "outputs": [
    {
     "data": {
      "text/plain": [
       "<mpl_toolkits.mplot3d.art3d.Path3DCollection at 0x10be70160>"
      ]
     },
     "execution_count": 15,
     "metadata": {},
     "output_type": "execute_result"
    },
    {
     "data": {
      "image/png": "[encoded data removed]",
      "text/plain": [
       "<matplotlib.figure.Figure at 0x10c094da0>"
      ]
     },
     "metadata": {},
     "output_type": "display_data"
    }
   ],
   "source": [
    "fig = plt.figure()\n",
    "ax = fig.add_subplot(111, projection='3d')\n",
    "ax.view_init(elev=None, azim=None)\n",
    "\n",
    "cl = [];\n",
    "for i in range(0,len(y_train)):\n",
    "    if y_train[i] == 0:\n",
    "        c = 'blue'\n",
    "    else:\n",
    "        c = 'orange'\n",
    "    cl.append(c)\n",
    "\n",
    "x = pca_result[:, 0].tolist();\n",
    "y = pca_result[:, 1].tolist();\n",
    "z = pca_result[:, 2].tolist();\n",
    "\n",
    "ax.get_proj = lambda: np.dot(Axes3D.get_proj(ax), np.diag([1, 1, 1, 1]))\n",
    "ax.scatter(z,y,x, s = 25, c=cl, depthshade=True, alpha = 0.8)"
   ]
  },
  {
   "cell_type": "code",
   "execution_count": 16,
   "metadata": {
    "collapsed": false
   },
   "outputs": [],
   "source": [
    "pos_x = train_set[['TotalWorkingYears', 'JobSatisfaction', 'OverTime', 'YearsSinceLastPromotion']]\n",
    "pos_y  = train_set['Attrition']\n",
    "\n",
    "scalerTrain = StandardScaler()\n",
    "scalerTrain.fit(pos_x)\n",
    "econ_train = scalerTrain.transform(pos_x) #normalize\n",
    "\n",
    "pca = PCA(n_components=3)\n",
    "pca_result = pca.fit_transform(pos_x)"
   ]
  },
  {
   "cell_type": "code",
   "execution_count": 17,
   "metadata": {
    "collapsed": false
   },
   "outputs": [
    {
     "data": {
      "text/plain": [
       "<mpl_toolkits.mplot3d.art3d.Path3DCollection at 0x10db667f0>"
      ]
     },
     "execution_count": 17,
     "metadata": {},
     "output_type": "execute_result"
    },
    {
     "data": {
      "image/png": "[encoded data removed]",
      "text/plain": [
       "<matplotlib.figure.Figure at 0x10dc1e4a8>"
      ]
     },
     "metadata": {},
     "output_type": "display_data"
    }
   ],
   "source": [
    "fig = plt.figure()\n",
    "ax = fig.add_subplot(111, projection='3d')\n",
    "ax.view_init(elev=None, azim=None)\n",
    "\n",
    "colors = ['green','darkorange']\n",
    "cl = [];\n",
    "for i in range(0,len(y_train)):\n",
    "    if y_train[i] == 0:\n",
    "        c = 'blue'\n",
    "    else:\n",
    "        c = 'orange'\n",
    "    cl.append(c)\n",
    "\n",
    "x = pca_result[:, 0].tolist();\n",
    "y = pca_result[:, 1].tolist();\n",
    "z = pca_result[:, 2].tolist();\n",
    "\n",
    "ax.get_proj = lambda: np.dot(Axes3D.get_proj(ax), np.diag([1, 1, 1, 1]))\n",
    "ax.scatter(z,y,x, s = 25, c=cl, depthshade=True, alpha = 0.8)"
   ]
  },
  {
   "cell_type": "markdown",
   "metadata": {},
   "source": [
    "### SMOTE"
   ]
  },
  {
   "cell_type": "code",
   "execution_count": null,
   "metadata": {
    "collapsed": true
   },
   "outputs": [],
   "source": [
    "\n",
    "# Replace categoricals and boolean variables in data frame\n",
    "def transformTrainData(data):\n",
    "    categorical = []\n",
    "    for col, value in data.iteritems():\n",
    "        if value.dtype == 'object':\n",
    "            categorical.append(col)\n",
    "    numerical = data.columns.difference(categorical)\n",
    "    data_cat = data[categorical]\n",
    "    data_cat = pd.get_dummies(data_cat)\n",
    "    data_num = data[numerical]\n",
    "    return pd.concat([data_num, data_cat], axis=1)\n",
    "\n",
    "def transformTestData(data):\n",
    "    return data[\"Attrition\"].apply(lambda x: 1 if x == \"Yes\" else 0)\n",
    "\n",
    "\n",
    "# Normalize data before training the model\n",
    "from sklearn.preprocessing import StandardScaler\n",
    "\n",
    "\n",
    "y_train_smote = pd.read_csv(\"SMOTE_trainingY.csv\")\n",
    "x_train_smote = pd.read_csv(\"SMOTE_trainingX.csv\")\n",
    "\n",
    "scalerTrain = StandardScaler()\n",
    "scalerTrain.fit(x_train_smote)\n",
    "x_train_smote = scalerTrain.transform(x_train_smote) #Standardized\n",
    "\n",
    "svmS = svm.SVC(C = 1.0, kernel =  'linear');\n",
    "svmS.fit(x_train_smote,y_train_smote);\n",
    "print(len(x_train[0]), len(x_test[0]))\n",
    "svmS.predict(x_test)\n",
    "print (\"Kernel = Linear, C = 1\")\n",
    "print(\"Training Accuracy: \", svmS.score(x_train_smote, y_train_smote))\n",
    "print(\"Test Accuracy: \", svmS.score(x_test,y_test))"
   ]
  }
 ],
 "metadata": {
  "kernelspec": {
   "display_name": "Python 3",
   "language": "python",
   "name": "python3"
  },
  "language_info": {
   "codemirror_mode": {
    "name": "ipython",
    "version": 3
   },
   "file_extension": ".py",
   "mimetype": "text/x-python",
   "name": "python",
   "nbconvert_exporter": "python",
   "pygments_lexer": "ipython3",
   "version": "3.4.3"
  }
 },
 "nbformat": 4,
 "nbformat_minor": 2
}
